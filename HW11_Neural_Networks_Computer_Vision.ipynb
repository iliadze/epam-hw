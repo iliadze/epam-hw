{
 "cells": [
  {
   "cell_type": "code",
   "execution_count": 1,
   "id": "funky-scenario",
   "metadata": {},
   "outputs": [
    {
     "name": "stdout",
     "output_type": "stream",
     "text": [
      "Requirement already satisfied: numpy==1.19.5 in c:\\programdata\\anaconda3\\lib\\site-packages (1.19.5)\n"
     ]
    }
   ],
   "source": [
    "# downgrading numpy for Tensorflow compatibilty\n",
    "!pip install --upgrade numpy==1.19.5"
   ]
  },
  {
   "cell_type": "code",
   "execution_count": 2,
   "id": "cooperative-ecology",
   "metadata": {},
   "outputs": [
    {
     "name": "stdout",
     "output_type": "stream",
     "text": [
      "Requirement already satisfied: pydot in c:\\programdata\\anaconda3\\lib\\site-packages (1.4.2)\n",
      "Requirement already satisfied: pyparsing>=2.1.4 in c:\\programdata\\anaconda3\\lib\\site-packages (from pydot) (2.4.7)\n"
     ]
    }
   ],
   "source": [
    "!pip install pydot"
   ]
  },
  {
   "cell_type": "code",
   "execution_count": 3,
   "id": "bright-estimate",
   "metadata": {},
   "outputs": [
    {
     "name": "stdout",
     "output_type": "stream",
     "text": [
      "Requirement already satisfied: pydotplus in c:\\programdata\\anaconda3\\lib\\site-packages (2.0.2)\n",
      "Requirement already satisfied: pyparsing>=2.0.1 in c:\\programdata\\anaconda3\\lib\\site-packages (from pydotplus) (2.4.7)\n"
     ]
    }
   ],
   "source": [
    "!pip install pydotplus"
   ]
  },
  {
   "cell_type": "code",
   "execution_count": 4,
   "id": "biological-oregon",
   "metadata": {},
   "outputs": [
    {
     "name": "stdout",
     "output_type": "stream",
     "text": [
      "Requirement already satisfied: graphviz in c:\\programdata\\anaconda3\\lib\\site-packages (0.16)\n"
     ]
    }
   ],
   "source": [
    "!pip install graphviz"
   ]
  },
  {
   "cell_type": "code",
   "execution_count": 57,
   "id": "funded-regression",
   "metadata": {},
   "outputs": [],
   "source": [
    "import pathlib\n",
    "import os\n",
    "\n",
    "import matplotlib.pyplot as plt\n",
    "import numpy as np\n",
    "import pandas as pd\n",
    "import seaborn as sns\n",
    "\n",
    "from scipy import stats\n",
    "from sklearn.preprocessing import MinMaxScaler, RobustScaler, PolynomialFeatures, LabelEncoder, OneHotEncoder\n",
    "from sklearn.model_selection import cross_val_score, KFold, train_test_split\n",
    "from sklearn.impute import SimpleImputer\n",
    "\n",
    "import tensorflow as tf\n",
    "\n",
    "from tensorflow import keras\n",
    "from tensorflow.keras import layers\n",
    "\n",
    "from keras.models import Sequential\n",
    "from keras.layers import Dense, Conv2D, MaxPooling2D, Activation, Dropout, Flatten\n",
    "from keras.wrappers.scikit_learn import KerasRegressor\n",
    "from tensorflow.keras.layers.experimental import preprocessing\n",
    "from keras.preprocessing import image\n",
    "from keras.preprocessing.image import ImageDataGenerator, array_to_img, img_to_array, load_img\n",
    "\n",
    "import pydot\n",
    "import pydotplus\n",
    "import graphviz"
   ]
  },
  {
   "cell_type": "code",
   "execution_count": null,
   "id": "ancient-findings",
   "metadata": {},
   "outputs": [],
   "source": [
    "print(np.__version__)"
   ]
  },
  {
   "cell_type": "markdown",
   "id": "automated-price",
   "metadata": {},
   "source": [
    "FUNCTIONS AND COMMONLY USED CONSTANTS"
   ]
  },
  {
   "cell_type": "code",
   "execution_count": null,
   "id": "velvet-obligation",
   "metadata": {},
   "outputs": [],
   "source": [
    "class MultiColumnLabelEncoder:\n",
    "    def __init__(self,columns = None):\n",
    "        self.columns = columns # array of column names to encode\n",
    "\n",
    "    def fit(self,X,y=None):\n",
    "        return self # not relevant here\n",
    "\n",
    "    def transform(self,X):\n",
    "        '''\n",
    "        Transforms columns of X specified in self.columns using\n",
    "        LabelEncoder(). If no columns specified, transforms all\n",
    "        columns in X.\n",
    "        '''\n",
    "        output = X.copy()\n",
    "        if self.columns is not None:\n",
    "            for col in self.columns:\n",
    "                output[col] = LabelEncoder().fit_transform(output[col])\n",
    "        else:\n",
    "            for colname,col in output.iteritems():\n",
    "                output[colname] = LabelEncoder().fit_transform(col)\n",
    "        return output\n",
    "\n",
    "    def fit_transform(self,X,y=None):\n",
    "        return self.fit(X,y).transform(X)\n",
    "    \n",
    "def plot_loss(history):\n",
    "  plt.plot(history.history['loss'], label='loss')\n",
    "  plt.plot(history.history['val_loss'], label='val_loss')\n",
    "  plt.xlabel('Epoch')\n",
    "  plt.ylabel('Error [C6H6(GT)]')\n",
    "  plt.legend()\n",
    "  plt.grid(True)\n",
    "    \n",
    "def plot_accuracy(history):\n",
    "  plt.plot(history.history['accuracy'], label='accuracy')\n",
    "  plt.plot(history.history['val_accuracy'], label='val_accuracy')\n",
    "  plt.xlabel('Epoch')\n",
    "  plt.ylabel('Accuracy')\n",
    "  plt.legend()\n",
    "  plt.grid(True)"
   ]
  },
  {
   "cell_type": "markdown",
   "id": "present-shareware",
   "metadata": {},
   "source": [
    "**1. REGRESSION**"
   ]
  },
  {
   "cell_type": "markdown",
   "id": "speaking-police",
   "metadata": {},
   "source": [
    "*Reminder*:\n",
    "- `C6H6(GT)` is the target "
   ]
  },
  {
   "cell_type": "code",
   "execution_count": null,
   "id": "pending-polyester",
   "metadata": {},
   "outputs": [],
   "source": [
    "df_reg = pd.read_csv(r'C:\\Users\\1\\Desktop\\HW\\AirQualityUCI.csv', sep=';', na_values=-200, decimal = ',')\n",
    "\n",
    "# drop empty columns and rows \n",
    "df_reg = df_reg.drop(columns=['Unnamed: 15', 'Unnamed: 16'])\n",
    "df_reg = df_reg.drop(df_reg.tail(114).index)"
   ]
  },
  {
   "cell_type": "code",
   "execution_count": null,
   "id": "fallen-mechanics",
   "metadata": {},
   "outputs": [],
   "source": [
    "df_reg.head(10)"
   ]
  },
  {
   "cell_type": "markdown",
   "id": "signal-despite",
   "metadata": {},
   "source": [
    "Feature engineering:"
   ]
  },
  {
   "cell_type": "code",
   "execution_count": null,
   "id": "incomplete-midnight",
   "metadata": {},
   "outputs": [],
   "source": [
    "# hour is the only info in Time column\n",
    "df_reg['hour'] = pd.to_numeric(df_reg['Time'].astype(str).str[0:2])\n",
    "df_reg.hour.unique()"
   ]
  },
  {
   "cell_type": "code",
   "execution_count": null,
   "id": "acceptable-contrary",
   "metadata": {},
   "outputs": [],
   "source": [
    "# cyclical hour feature\n",
    "df_reg['hour_sin'] = np.sin(df_reg.hour*(2.*np.pi/24))\n",
    "df_reg['hour_cos'] = np.cos(df_reg.hour*(2.*np.pi/24))"
   ]
  },
  {
   "cell_type": "code",
   "execution_count": null,
   "id": "periodic-technician",
   "metadata": {},
   "outputs": [],
   "source": [
    "# extract info from Date column\n",
    "df_reg['Day'] = pd.to_numeric(df_reg['Date'].astype(str).str[0:2])\n",
    "df_reg['Month'] = pd.to_numeric(df_reg['Date'].astype(str).str[3:5])\n",
    "df_reg['Year'] = pd.to_numeric(df_reg['Date'].astype(str).str[6::])"
   ]
  },
  {
   "cell_type": "code",
   "execution_count": null,
   "id": "impaired-links",
   "metadata": {},
   "outputs": [],
   "source": [
    "# cyclical month feature\n",
    "df_reg['month_sin'] = np.sin((df_reg.Month-1)*(2.*np.pi/12))\n",
    "df_reg['month_cos'] = np.cos((df_reg.Month-1)*(2.*np.pi/12))"
   ]
  },
  {
   "cell_type": "code",
   "execution_count": null,
   "id": "absent-providence",
   "metadata": {},
   "outputs": [],
   "source": [
    "# set Date as index \n",
    "df_reg.Time = df_reg.Time.str.replace('.',':')\n",
    "df_reg.Date = df_reg[\"Date\"]+' '+df_reg['Time']\n",
    "df_reg.Date = pd.to_datetime(df_reg.Date)\n",
    "df_reg = df_reg.set_index('Date')\n",
    "df_reg.drop(['Time'], axis = 1, inplace = True)"
   ]
  },
  {
   "cell_type": "code",
   "execution_count": null,
   "id": "essential-amount",
   "metadata": {},
   "outputs": [],
   "source": [
    "df_reg.info()"
   ]
  },
  {
   "cell_type": "markdown",
   "id": "formed-comfort",
   "metadata": {},
   "source": [
    "Data preparation."
   ]
  },
  {
   "cell_type": "code",
   "execution_count": null,
   "id": "understood-distribution",
   "metadata": {},
   "outputs": [],
   "source": [
    "# missing values % across columns\n",
    "total = df_reg.isna().sum().sort_values(ascending=False)\n",
    "percent = (df_reg.isna().sum()/df_reg.isna().count()).sort_values(ascending=False)\n",
    "missing_data = pd.concat([total, percent], axis=1, keys=['Total', 'Percent'])\n",
    "missing_data.head(20)"
   ]
  },
  {
   "cell_type": "code",
   "execution_count": null,
   "id": "dress-diving",
   "metadata": {},
   "outputs": [],
   "source": [
    "# remove 90% empty column\n",
    "df_reg = df_reg.drop(['NMHC(GT)'], axis=1)"
   ]
  },
  {
   "cell_type": "code",
   "execution_count": null,
   "id": "three-block",
   "metadata": {},
   "outputs": [],
   "source": [
    "# remove rows with >10 empty values \n",
    "bad_rows = df_reg[df_reg.shape[1] - df_reg.count(axis=1) > 10].index\n",
    "df_reg.drop(bad_rows, axis = 0, inplace = True)"
   ]
  },
  {
   "cell_type": "code",
   "execution_count": null,
   "id": "protecting-variance",
   "metadata": {},
   "outputs": [],
   "source": [
    "# remove all rows with missing target\n",
    "df_reg.drop(df_reg[df_reg['C6H6(GT)'].isnull()].index, axis = 0, inplace = True)"
   ]
  },
  {
   "cell_type": "code",
   "execution_count": null,
   "id": "coordinated-economics",
   "metadata": {},
   "outputs": [],
   "source": [
    "# final NAs check\n",
    "df_reg.isna().sum()"
   ]
  },
  {
   "cell_type": "markdown",
   "id": "encouraging-skating",
   "metadata": {},
   "source": [
    "We still have NA values to fill in the features:\n",
    "- `CO(GT)`\n",
    "- `NOx(GT)`\n",
    "- `NO2(GT)`"
   ]
  },
  {
   "cell_type": "markdown",
   "id": "sitting-isaac",
   "metadata": {},
   "source": [
    "Train / test split to prevent info spills"
   ]
  },
  {
   "cell_type": "code",
   "execution_count": null,
   "id": "earned-bread",
   "metadata": {},
   "outputs": [],
   "source": [
    "# train = first 70%, test = last 30%  \n",
    "df_reg = df_reg.sort_index()\n",
    "train_reg, test_reg = df_reg.iloc[:7000,:], df_reg.iloc[2000:,:]"
   ]
  },
  {
   "cell_type": "code",
   "execution_count": null,
   "id": "varied-biodiversity",
   "metadata": {},
   "outputs": [],
   "source": [
    "train_reg.hist(figsize=(12, 15), bins=20, xlabelsize=8, ylabelsize=8);"
   ]
  },
  {
   "cell_type": "code",
   "execution_count": null,
   "id": "southeast-practitioner",
   "metadata": {},
   "outputs": [],
   "source": [
    "# filling NAs with medians since the 3 features are skewed\n",
    "to_fill = {}\n",
    "for i in train_reg.columns:\n",
    "    to_fill[i] = np.nanmedian(train_reg[i])\n",
    "train_reg = train_reg.fillna(value = to_fill)"
   ]
  },
  {
   "cell_type": "code",
   "execution_count": null,
   "id": "miniature-criterion",
   "metadata": {},
   "outputs": [],
   "source": [
    "# same for the test set\n",
    "test_reg = test_reg.fillna(value = to_fill)"
   ]
  },
  {
   "cell_type": "code",
   "execution_count": null,
   "id": "intelligent-david",
   "metadata": {},
   "outputs": [],
   "source": [
    "# the data needs to be scaled\n",
    "train_reg.boxplot(rot = 45);"
   ]
  },
  {
   "cell_type": "code",
   "execution_count": null,
   "id": "unknown-utilization",
   "metadata": {},
   "outputs": [],
   "source": [
    "# the target is skewed\n",
    "ax = sns.histplot(train_reg['C6H6(GT)'], kde=True)\n",
    "ax.set_title('Target variable C6H6(GT)');"
   ]
  },
  {
   "cell_type": "code",
   "execution_count": null,
   "id": "dress-fiction",
   "metadata": {},
   "outputs": [],
   "source": [
    "# applying power transformation\n",
    "target_tr, lmbda = stats.yeojohnson(train_reg['C6H6(GT)'])\n",
    "\n",
    "ax = sns.histplot((target_tr), kde=True)\n",
    "ax.set_title('Target variable C6H6(GT)');"
   ]
  },
  {
   "cell_type": "code",
   "execution_count": null,
   "id": "exempt-student",
   "metadata": {},
   "outputs": [],
   "source": [
    "# transforming the test target\n",
    "target_test_tr, lmbda = stats.yeojohnson(test_reg['C6H6(GT)'])"
   ]
  },
  {
   "cell_type": "code",
   "execution_count": null,
   "id": "medical-gardening",
   "metadata": {},
   "outputs": [],
   "source": [
    "# separate X and the target \n",
    "X_train_reg, y_train_reg = train_reg.drop('C6H6(GT)', axis = 1), train_reg['C6H6(GT)']\n",
    "X_test_reg, y_test_reg = test_reg.drop('C6H6(GT)', axis = 1), test_reg['C6H6(GT)']"
   ]
  },
  {
   "cell_type": "markdown",
   "id": "rocky-formation",
   "metadata": {},
   "source": [
    "Taking the best-performing transformations from the Linear Regression homework:"
   ]
  },
  {
   "cell_type": "code",
   "execution_count": null,
   "id": "married-identity",
   "metadata": {},
   "outputs": [],
   "source": [
    "# MinMax scaling\n",
    "X_train_reg_minmax = pd.DataFrame(MinMaxScaler().fit_transform(X_train_reg), columns = X_train_reg.columns)\n",
    "minmax_scaler = MinMaxScaler().fit(X_train_reg)"
   ]
  },
  {
   "cell_type": "code",
   "execution_count": null,
   "id": "certified-coalition",
   "metadata": {},
   "outputs": [],
   "source": [
    "# scaling the test features\n",
    "X_test_reg_minmax = pd.DataFrame(minmax_scaler.transform(X_test_reg), columns = X_test_reg.columns)"
   ]
  },
  {
   "cell_type": "code",
   "execution_count": null,
   "id": "conditional-wales",
   "metadata": {},
   "outputs": [],
   "source": [
    "# creating polynomial X^2 features \n",
    "poly = PolynomialFeatures(2).fit(X_train_reg_minmax)\n",
    "\n",
    "X_train_reg_poly = pd.DataFrame(poly.transform(X_train_reg_minmax))\n",
    "X_test_reg_poly = pd.DataFrame(poly.transform(X_test_reg_minmax))"
   ]
  },
  {
   "cell_type": "markdown",
   "id": "funky-classics",
   "metadata": {},
   "source": [
    "Neural Network Keras model"
   ]
  },
  {
   "cell_type": "code",
   "execution_count": null,
   "id": "proper-episode",
   "metadata": {},
   "outputs": [],
   "source": [
    "# building a simple NN with 1 layer\n",
    "linear_model = tf.keras.Sequential([\n",
    "    layers.Dense(units=1)\n",
    "])"
   ]
  },
  {
   "cell_type": "code",
   "execution_count": null,
   "id": "ambient-appendix",
   "metadata": {},
   "outputs": [],
   "source": [
    "# configuring the training procedure \n",
    "# loss = MSE \n",
    "linear_model.compile(\n",
    "    optimizer = tf.optimizers.Adam(learning_rate=0.1),\n",
    "    loss='mean_squared_error')"
   ]
  },
  {
   "cell_type": "code",
   "execution_count": null,
   "id": "tested-regulation",
   "metadata": {},
   "outputs": [],
   "source": [
    "# executing training on the train data \n",
    "history_lin = linear_model.fit(\n",
    "    X_train_reg_minmax, y_train_reg,\n",
    "    epochs=100,\n",
    "    verbose=0,\n",
    "    validation_split = 0.2)"
   ]
  },
  {
   "cell_type": "code",
   "execution_count": null,
   "id": "extraordinary-globe",
   "metadata": {},
   "outputs": [],
   "source": [
    "plot_loss(history_lin)"
   ]
  },
  {
   "cell_type": "markdown",
   "id": "peripheral-vacuum",
   "metadata": {},
   "source": [
    "Seems like the simple model does not perform well. Let's try polynomial features."
   ]
  },
  {
   "cell_type": "code",
   "execution_count": null,
   "id": "alone-attribute",
   "metadata": {},
   "outputs": [],
   "source": [
    "# building and executing polynomial model\n",
    "polynomial_model = tf.keras.Sequential([\n",
    "    layers.Dense(units=1)\n",
    "])\n",
    "\n",
    "polynomial_model.compile(\n",
    "    optimizer = tf.optimizers.Adam(learning_rate=0.1),\n",
    "    loss='mean_squared_error')\n",
    "\n",
    "history_poly = polynomial_model.fit(\n",
    "    X_train_reg_poly, y_train_reg,\n",
    "    epochs=100,\n",
    "    verbose=0,\n",
    "    validation_split = 0.2)"
   ]
  },
  {
   "cell_type": "code",
   "execution_count": null,
   "id": "minor-finder",
   "metadata": {},
   "outputs": [],
   "source": [
    "plot_loss(history_poly)"
   ]
  },
  {
   "cell_type": "code",
   "execution_count": null,
   "id": "loaded-object",
   "metadata": {},
   "outputs": [],
   "source": [
    "# creating test results DF for models comparison\n",
    "test_results_reg = {}"
   ]
  },
  {
   "cell_type": "code",
   "execution_count": null,
   "id": "tribal-football",
   "metadata": {},
   "outputs": [],
   "source": [
    "# saving linear model MSE\n",
    "test_results_reg['linear_model'] = linear_model.evaluate(\n",
    "    X_test_reg_minmax, y_test_reg, verbose=0)"
   ]
  },
  {
   "cell_type": "code",
   "execution_count": null,
   "id": "velvet-creature",
   "metadata": {},
   "outputs": [],
   "source": [
    "# saving polynomial model MSE\n",
    "test_results_reg['polynomial_model'] = polynomial_model.evaluate(\n",
    "    X_test_reg_poly, y_test_reg, verbose=0)"
   ]
  },
  {
   "cell_type": "code",
   "execution_count": null,
   "id": "third-purchase",
   "metadata": {},
   "outputs": [],
   "source": [
    "pd.DataFrame(test_results_reg, index=['Mean squared error [C6H6(GT)]']).T"
   ]
  },
  {
   "cell_type": "markdown",
   "id": "desirable-artwork",
   "metadata": {},
   "source": [
    "The score of the polynomial_model is comparable with the MSE of **0.031496** yielded by the best-performing linear model. "
   ]
  },
  {
   "cell_type": "code",
   "execution_count": null,
   "id": "short-theory",
   "metadata": {},
   "outputs": [],
   "source": [
    "# visualising predictions\n",
    "test_predictions_reg = polynomial_model.predict(X_test_reg_poly).flatten()\n",
    "\n",
    "a = plt.axes(aspect='equal')\n",
    "plt.scatter(y_test_reg, test_predictions_reg)\n",
    "plt.xlabel('True Values [C6H6(GT)]')\n",
    "plt.ylabel('Predictions [C6H6(GT)]')\n",
    "lims = [-5, 70]\n",
    "plt.xlim(lims)\n",
    "plt.ylim(lims)\n",
    "_ = plt.plot(lims, lims)"
   ]
  },
  {
   "cell_type": "markdown",
   "id": "pressed-amplifier",
   "metadata": {},
   "source": [
    "**2. CLASSIFICATION**"
   ]
  },
  {
   "cell_type": "code",
   "execution_count": null,
   "id": "frequent-signature",
   "metadata": {},
   "outputs": [],
   "source": [
    "# read the classification dataset\n",
    "df_clf = pd.read_csv(r'C:\\Users\\1\\Desktop\\HW\\dataset_57_hypothyroid.csv', na_values = '?')\n",
    "df_clf.head()"
   ]
  },
  {
   "cell_type": "code",
   "execution_count": null,
   "id": "excited-separation",
   "metadata": {},
   "outputs": [],
   "source": [
    "# dropping features that don't bring useful information\n",
    "df_clf.drop(['TBG','TBG_measured','TSH_measured', 'T3_measured', \\\n",
    "           'TT4_measured', 'T4U_measured', 'FTI_measured', 'TBG_measured', \\\n",
    "           'hypopituitary'], axis = 1, inplace = True)"
   ]
  },
  {
   "cell_type": "code",
   "execution_count": null,
   "id": "piano-patrick",
   "metadata": {},
   "outputs": [],
   "source": [
    "# numerical and categorical grouping\n",
    "cat_vals = [i for i in df_clf.columns if df_clf.dtypes[i] == 'O']\n",
    "num_vals = [i for i in df_clf.columns if df_clf.dtypes[i] == 'float64']\n",
    "cat_vals.remove('Class')"
   ]
  },
  {
   "cell_type": "code",
   "execution_count": null,
   "id": "lasting-briefs",
   "metadata": {},
   "outputs": [],
   "source": [
    "# dropping the age outlier\n",
    "df_clf.drop(df_clf[df_clf.age > 100].index, inplace = True)"
   ]
  },
  {
   "cell_type": "code",
   "execution_count": null,
   "id": "applied-textbook",
   "metadata": {},
   "outputs": [],
   "source": [
    "# dropping 2 secondary_hypothyroid cases\n",
    "df_clf.drop(df_clf[df_clf.Class == 'secondary_hypothyroid'].index, inplace = True)"
   ]
  },
  {
   "cell_type": "code",
   "execution_count": null,
   "id": "frequent-fight",
   "metadata": {},
   "outputs": [],
   "source": [
    "# train / test split\n",
    "X_train_clf, X_test_clf, y_train_clf, y_test_clf = train_test_split(\n",
    "    df_clf.drop('Class',axis=1), df_clf.Class, test_size=0.2, stratify = df_clf.Class)"
   ]
  },
  {
   "cell_type": "code",
   "execution_count": null,
   "id": "sweet-module",
   "metadata": {},
   "outputs": [],
   "source": [
    "# filling NAs: numerical features \n",
    "num_imputer = SimpleImputer(strategy='median')\n",
    "# train\n",
    "X_train_clf[num_vals] = num_imputer.fit_transform(X_train_clf[num_vals])\n",
    "\n",
    "# test\n",
    "X_test_clf[num_vals] = num_imputer.transform(X_test_clf[num_vals])"
   ]
  },
  {
   "cell_type": "code",
   "execution_count": null,
   "id": "liked-watch",
   "metadata": {},
   "outputs": [],
   "source": [
    "# filling NAs: categorical features \n",
    "cat_imputer = SimpleImputer(strategy='constant', fill_value='unknown')\n",
    "\n",
    "# train\n",
    "X_train_clf.sex = cat_imputer.fit_transform(X_train_clf.sex.values.reshape(-1, 1))\n",
    "\n",
    "# test\n",
    "X_test_clf.sex = cat_imputer.transform(X_test_clf.sex.values.reshape(-1, 1))"
   ]
  },
  {
   "cell_type": "code",
   "execution_count": null,
   "id": "ideal-clearance",
   "metadata": {},
   "outputs": [],
   "source": [
    "# scaling \n",
    "vals_to_scale = [x for x in num_vals if x!='TSH']\n",
    "robust_scaler = RobustScaler()\n",
    "\n",
    "# train\n",
    "X_train_clf[vals_to_scale] = robust_scaler.fit_transform(X_train_clf[vals_to_scale])\n",
    "X_train_clf.TSH = np.log(X_train_clf.TSH)\n",
    "\n",
    "# test\n",
    "X_test_clf[vals_to_scale] = robust_scaler.transform(X_test_clf[vals_to_scale])\n",
    "X_test_clf.TSH = np.log(X_test_clf.TSH)"
   ]
  },
  {
   "cell_type": "code",
   "execution_count": null,
   "id": "cutting-badge",
   "metadata": {},
   "outputs": [],
   "source": [
    "# columns for label encoding \n",
    "labelencvars = cat_vals.copy()\n",
    "labelencvars.remove('sex')\n",
    "labelencvars.remove('referral_source')"
   ]
  },
  {
   "cell_type": "code",
   "execution_count": null,
   "id": "colonial-sound",
   "metadata": {},
   "outputs": [],
   "source": [
    "# label encoding \n",
    "le = LabelEncoder()\n",
    "# train\n",
    "X_train_clf[labelencvars] = X_train_clf[labelencvars].apply(le.fit_transform)\n",
    "\n",
    "# test\n",
    "X_test_clf[labelencvars] = X_test_clf[labelencvars].apply(le.transform)"
   ]
  },
  {
   "cell_type": "code",
   "execution_count": null,
   "id": "apparent-cursor",
   "metadata": {},
   "outputs": [],
   "source": [
    "# one-hot encoding categorical features\n",
    "for i in ['sex', 'referral_source']:\n",
    "    cols_train = pd.get_dummies(X_train_clf[i], prefix = i)\n",
    "    cols_test = pd.get_dummies(X_test_clf[i], prefix = i)\n",
    "    X_train_clf.drop(i, axis = 1, inplace=True)\n",
    "    X_test_clf.drop(i, axis = 1, inplace=True)\n",
    "    X_train_clf = pd.concat([X_train_clf,cols_train], axis = 1)\n",
    "    X_test_clf = pd.concat([X_test_clf,cols_test], axis = 1)"
   ]
  },
  {
   "cell_type": "code",
   "execution_count": null,
   "id": "scheduled-toronto",
   "metadata": {},
   "outputs": [],
   "source": [
    "# one-hot encoding the target\n",
    "y_cols_train = pd.get_dummies(y_train_clf, prefix = 'y_')\n",
    "y_cols_test = pd.get_dummies(y_test_clf, prefix = 'y_')"
   ]
  },
  {
   "cell_type": "code",
   "execution_count": null,
   "id": "conservative-ceremony",
   "metadata": {},
   "outputs": [],
   "source": [
    "# checking the number of features \n",
    "X_train_clf.shape"
   ]
  },
  {
   "cell_type": "code",
   "execution_count": null,
   "id": "faced-compression",
   "metadata": {},
   "outputs": [],
   "source": [
    "# building a NN model with \n",
    "# a single layer and\n",
    "# number of neurons as the number of features / 2 \n",
    "clf_model = tf.keras.Sequential([\n",
    "    tf.keras.layers.Dense(13, input_dim=27, activation='relu'),\n",
    "    tf.keras.layers.Dense(3, activation='softmax')\n",
    "])"
   ]
  },
  {
   "cell_type": "code",
   "execution_count": null,
   "id": "detected-triple",
   "metadata": {},
   "outputs": [],
   "source": [
    "# compiling the model\n",
    "# we're interested in recall metric (don't want to miss a positive case)\n",
    "clf_model.compile(loss='categorical_crossentropy', optimizer='adam', metrics=['accuracy'])"
   ]
  },
  {
   "cell_type": "code",
   "execution_count": null,
   "id": "further-duration",
   "metadata": {},
   "outputs": [],
   "source": [
    "# executing model training\n",
    "history_clf = clf_model.fit(\n",
    "    X_train_clf, y_cols_train,\n",
    "    epochs=100,\n",
    "    verbose=0,\n",
    "    validation_split = 0.2)"
   ]
  },
  {
   "cell_type": "code",
   "execution_count": null,
   "id": "certified-founder",
   "metadata": {},
   "outputs": [],
   "source": [
    "plot_accuracy(history_clf)"
   ]
  },
  {
   "cell_type": "code",
   "execution_count": null,
   "id": "lesser-yield",
   "metadata": {},
   "outputs": [],
   "source": [
    "test_results_clf = clf_model.evaluate(\n",
    "    X_test_clf, y_cols_test, verbose=0)\n",
    "print(test_results_clf)"
   ]
  },
  {
   "cell_type": "markdown",
   "id": "mechanical-major",
   "metadata": {},
   "source": [
    "The accuracy score is comparible with the score of **0.97** yeilded by the logistic regression with regularization."
   ]
  },
  {
   "cell_type": "markdown",
   "id": "broadband-census",
   "metadata": {},
   "source": [
    "**3. COMPUTER VISION**"
   ]
  },
  {
   "cell_type": "code",
   "execution_count": 11,
   "id": "communist-sculpture",
   "metadata": {},
   "outputs": [],
   "source": [
    "train_path = (r\"C:\\Users\\1\\Desktop\\HW\\hotdog__not_hotdog\\train\")\n",
    "test_path = (r\"C:\\Users\\1\\Desktop\\HW\\hotdog__not_hotdog\\test\")"
   ]
  },
  {
   "cell_type": "code",
   "execution_count": 12,
   "id": "inclusive-publisher",
   "metadata": {},
   "outputs": [
    {
     "name": "stdout",
     "output_type": "stream",
     "text": [
      "Deleted 0 images\n"
     ]
    }
   ],
   "source": [
    "# check for corrupted images\n",
    "num_skipped = 0\n",
    "for folder_name in (\"hot_dog\", \"not_hot_dog\"):\n",
    "    folder_path = os.path.join(r\"C:\\Users\\1\\Desktop\\HW\\hotdog__not_hotdog\\train\", folder_name)\n",
    "    for fname in os.listdir(folder_path):\n",
    "        fpath = os.path.join(folder_path, fname)\n",
    "        try:\n",
    "            fobj = open(fpath, \"rb\")\n",
    "            is_jfif = tf.compat.as_bytes(\"JFIF\") in fobj.peek(10)\n",
    "        finally:\n",
    "            fobj.close()\n",
    "\n",
    "        if not is_jfif:\n",
    "            num_skipped += 1\n",
    "            os.remove(fpath)\n",
    "\n",
    "print(\"Deleted %d images\" % num_skipped)"
   ]
  },
  {
   "cell_type": "code",
   "execution_count": 76,
   "id": "obvious-alberta",
   "metadata": {},
   "outputs": [],
   "source": [
    "# artificially increasing images variability\n",
    "# data generator augments the original sample on-the-go (realtime augmentation)\n",
    "\n",
    "train_datagen = ImageDataGenerator(\n",
    "        rotation_range=45,\n",
    "        width_shift_range=0.2,\n",
    "        height_shift_range=0.2,\n",
    "        shear_range=0.2,\n",
    "        zoom_range=0.2,\n",
    "        horizontal_flip=True,\n",
    "        fill_mode='nearest',\n",
    "        validation_split=0.2)"
   ]
  },
  {
   "cell_type": "code",
   "execution_count": 68,
   "id": "czech-victorian",
   "metadata": {},
   "outputs": [
    {
     "data": {
      "image/png": "[encoded data removed]",
      "text/plain": [
       "<Figure size 432x288 with 4 Axes>"
      ]
     },
     "metadata": {
      "needs_background": "light"
     },
     "output_type": "display_data"
    }
   ],
   "source": [
    "# checking an augmented sample example\n",
    "\n",
    "# loading a random image\n",
    "img_path = r'C:\\Users\\1\\Desktop\\HW\\hotdog__not_hotdog\\train\\hot_dog\\856178.jpg'\n",
    "img = image.load_img(img_path)\n",
    "\n",
    "# saving distorted images\n",
    "images = [img]\n",
    "img_arr = image.img_to_array(img)\n",
    "img_arr = img_arr.reshape((1,) + img_arr.shape)\n",
    "for batch in datagen.flow(img_arr, batch_size=1):\n",
    "    images.append(image.array_to_img(batch[0]) )\n",
    "    if len(images) >= 4:\n",
    "        break\n",
    "        \n",
    "# displaying the augmented sample    \n",
    "f, xyarr = plt.subplots(2,2)\n",
    "xyarr[0,0].imshow(images[0])\n",
    "xyarr[0,1].imshow(images[1])\n",
    "xyarr[1,0].imshow(images[2])\n",
    "xyarr[1,1].imshow(images[3])\n",
    "plt.show()"
   ]
  },
  {
   "cell_type": "code",
   "execution_count": 77,
   "id": "fatty-ghana",
   "metadata": {},
   "outputs": [],
   "source": [
    "# building a model\n",
    "\n",
    "CV_model = Sequential()\n",
    "CV_model.add(Conv2D(32, (3, 3), input_shape=(180, 180, 3)))\n",
    "CV_model.add(Activation('relu'))\n",
    "CV_model.add(MaxPooling2D(pool_size=(2, 2)))\n",
    "\n",
    "CV_model.add(Conv2D(32, (3, 3)))\n",
    "CV_model.add(Activation('relu'))\n",
    "CV_model.add(MaxPooling2D(pool_size=(2, 2)))\n",
    "\n",
    "CV_model.add(Conv2D(64, (3, 3)))\n",
    "CV_model.add(Activation('relu'))\n",
    "CV_model.add(MaxPooling2D(pool_size=(2, 2)))\n",
    "\n",
    "CV_model.add(Flatten())  \n",
    "CV_model.add(Dense(64))\n",
    "CV_model.add(Activation('relu'))\n",
    "CV_model.add(Dropout(0.5))\n",
    "CV_model.add(Dense(1))\n",
    "CV_model.add(Activation('sigmoid'))"
   ]
  },
  {
   "cell_type": "code",
   "execution_count": 94,
   "id": "impressive-beverage",
   "metadata": {},
   "outputs": [],
   "source": [
    "# compiling the model\n",
    "\n",
    "CV_model.compile(loss='binary_crossentropy',\n",
    "              optimizer='adam',\n",
    "              metrics=['accuracy'])"
   ]
  },
  {
   "cell_type": "code",
   "execution_count": 89,
   "id": "sophisticated-father",
   "metadata": {},
   "outputs": [
    {
     "name": "stdout",
     "output_type": "stream",
     "text": [
      "Found 400 images belonging to 2 classes.\n",
      "Found 98 images belonging to 2 classes.\n"
     ]
    }
   ],
   "source": [
    "# preparing the data \n",
    "\n",
    "batch_size = 16\n",
    "\n",
    "# test images will not be distorted\n",
    "test_datagen = ImageDataGenerator(rescale=1./255)\n",
    "\n",
    "# specifying train generator\n",
    "train_generator = train_datagen.flow_from_directory(\n",
    "    train_path,\n",
    "    target_size=(180, 180),\n",
    "    batch_size=batch_size,\n",
    "    class_mode='binary',\n",
    "    subset='training')\n",
    "\n",
    "# specifying validation generator\n",
    "validation_generator = train_datagen.flow_from_directory(\n",
    "    train_path,\n",
    "    target_size=(180, 180),\n",
    "    batch_size=batch_size,\n",
    "    class_mode='binary',\n",
    "    subset='validation')"
   ]
  },
  {
   "cell_type": "code",
   "execution_count": 95,
   "id": "signed-sword",
   "metadata": {},
   "outputs": [
    {
     "name": "stdout",
     "output_type": "stream",
     "text": [
      "Epoch 1/50\n",
      "25/25 [==============================] - 25s 1s/step - loss: 0.6933 - accuracy: 0.4600 - val_loss: 0.6931 - val_accuracy: 0.5000\n",
      "Epoch 2/50\n",
      "25/25 [==============================] - 24s 950ms/step - loss: 0.6932 - accuracy: 0.5000 - val_loss: 0.6931 - val_accuracy: 0.5000\n",
      "Epoch 3/50\n"
     ]
    },
    {
     "ename": "KeyboardInterrupt",
     "evalue": "",
     "output_type": "error",
     "traceback": [
      "\u001b[1;31m---------------------------------------------------------------------------\u001b[0m",
      "\u001b[1;31mKeyboardInterrupt\u001b[0m                         Traceback (most recent call last)",
      "\u001b[1;32m<ipython-input-95-be0997e8707c>\u001b[0m in \u001b[0;36m<module>\u001b[1;34m\u001b[0m\n\u001b[0;32m      1\u001b[0m \u001b[1;31m# training the model\u001b[0m\u001b[1;33m\u001b[0m\u001b[1;33m\u001b[0m\u001b[1;33m\u001b[0m\u001b[0m\n\u001b[1;32m----> 2\u001b[1;33m CV_model.fit_generator(\n\u001b[0m\u001b[0;32m      3\u001b[0m         \u001b[0mtrain_generator\u001b[0m\u001b[1;33m,\u001b[0m\u001b[1;33m\u001b[0m\u001b[1;33m\u001b[0m\u001b[0m\n\u001b[0;32m      4\u001b[0m         \u001b[0msteps_per_epoch\u001b[0m\u001b[1;33m=\u001b[0m \u001b[1;36m400\u001b[0m\u001b[1;33m/\u001b[0m\u001b[0mbatch_size\u001b[0m\u001b[1;33m,\u001b[0m\u001b[1;33m\u001b[0m\u001b[1;33m\u001b[0m\u001b[0m\n\u001b[0;32m      5\u001b[0m         \u001b[0mepochs\u001b[0m\u001b[1;33m=\u001b[0m\u001b[1;36m50\u001b[0m\u001b[1;33m,\u001b[0m\u001b[1;33m\u001b[0m\u001b[1;33m\u001b[0m\u001b[0m\n",
      "\u001b[1;32mC:\\ProgramData\\Anaconda3\\lib\\site-packages\\tensorflow\\python\\util\\deprecation.py\u001b[0m in \u001b[0;36mnew_func\u001b[1;34m(*args, **kwargs)\u001b[0m\n\u001b[0;32m    322\u001b[0m               \u001b[1;34m'in a future version'\u001b[0m \u001b[1;32mif\u001b[0m \u001b[0mdate\u001b[0m \u001b[1;32mis\u001b[0m \u001b[1;32mNone\u001b[0m \u001b[1;32melse\u001b[0m \u001b[1;33m(\u001b[0m\u001b[1;34m'after %s'\u001b[0m \u001b[1;33m%\u001b[0m \u001b[0mdate\u001b[0m\u001b[1;33m)\u001b[0m\u001b[1;33m,\u001b[0m\u001b[1;33m\u001b[0m\u001b[1;33m\u001b[0m\u001b[0m\n\u001b[0;32m    323\u001b[0m               instructions)\n\u001b[1;32m--> 324\u001b[1;33m       \u001b[1;32mreturn\u001b[0m \u001b[0mfunc\u001b[0m\u001b[1;33m(\u001b[0m\u001b[1;33m*\u001b[0m\u001b[0margs\u001b[0m\u001b[1;33m,\u001b[0m \u001b[1;33m**\u001b[0m\u001b[0mkwargs\u001b[0m\u001b[1;33m)\u001b[0m\u001b[1;33m\u001b[0m\u001b[1;33m\u001b[0m\u001b[0m\n\u001b[0m\u001b[0;32m    325\u001b[0m     return tf_decorator.make_decorator(\n\u001b[0;32m    326\u001b[0m         \u001b[0mfunc\u001b[0m\u001b[1;33m,\u001b[0m \u001b[0mnew_func\u001b[0m\u001b[1;33m,\u001b[0m \u001b[1;34m'deprecated'\u001b[0m\u001b[1;33m,\u001b[0m\u001b[1;33m\u001b[0m\u001b[1;33m\u001b[0m\u001b[0m\n",
      "\u001b[1;32mC:\\ProgramData\\Anaconda3\\lib\\site-packages\\tensorflow\\python\\keras\\engine\\training.py\u001b[0m in \u001b[0;36mfit_generator\u001b[1;34m(self, generator, steps_per_epoch, epochs, verbose, callbacks, validation_data, validation_steps, validation_freq, class_weight, max_queue_size, workers, use_multiprocessing, shuffle, initial_epoch)\u001b[0m\n\u001b[0;32m   1813\u001b[0m     \"\"\"\n\u001b[0;32m   1814\u001b[0m     \u001b[0m_keras_api_gauge\u001b[0m\u001b[1;33m.\u001b[0m\u001b[0mget_cell\u001b[0m\u001b[1;33m(\u001b[0m\u001b[1;34m'fit_generator'\u001b[0m\u001b[1;33m)\u001b[0m\u001b[1;33m.\u001b[0m\u001b[0mset\u001b[0m\u001b[1;33m(\u001b[0m\u001b[1;32mTrue\u001b[0m\u001b[1;33m)\u001b[0m\u001b[1;33m\u001b[0m\u001b[1;33m\u001b[0m\u001b[0m\n\u001b[1;32m-> 1815\u001b[1;33m     return self.fit(\n\u001b[0m\u001b[0;32m   1816\u001b[0m         \u001b[0mgenerator\u001b[0m\u001b[1;33m,\u001b[0m\u001b[1;33m\u001b[0m\u001b[1;33m\u001b[0m\u001b[0m\n\u001b[0;32m   1817\u001b[0m         \u001b[0msteps_per_epoch\u001b[0m\u001b[1;33m=\u001b[0m\u001b[0msteps_per_epoch\u001b[0m\u001b[1;33m,\u001b[0m\u001b[1;33m\u001b[0m\u001b[1;33m\u001b[0m\u001b[0m\n",
      "\u001b[1;32mC:\\ProgramData\\Anaconda3\\lib\\site-packages\\tensorflow\\python\\keras\\engine\\training.py\u001b[0m in \u001b[0;36m_method_wrapper\u001b[1;34m(self, *args, **kwargs)\u001b[0m\n\u001b[0;32m    106\u001b[0m   \u001b[1;32mdef\u001b[0m \u001b[0m_method_wrapper\u001b[0m\u001b[1;33m(\u001b[0m\u001b[0mself\u001b[0m\u001b[1;33m,\u001b[0m \u001b[1;33m*\u001b[0m\u001b[0margs\u001b[0m\u001b[1;33m,\u001b[0m \u001b[1;33m**\u001b[0m\u001b[0mkwargs\u001b[0m\u001b[1;33m)\u001b[0m\u001b[1;33m:\u001b[0m\u001b[1;33m\u001b[0m\u001b[1;33m\u001b[0m\u001b[0m\n\u001b[0;32m    107\u001b[0m     \u001b[1;32mif\u001b[0m \u001b[1;32mnot\u001b[0m \u001b[0mself\u001b[0m\u001b[1;33m.\u001b[0m\u001b[0m_in_multi_worker_mode\u001b[0m\u001b[1;33m(\u001b[0m\u001b[1;33m)\u001b[0m\u001b[1;33m:\u001b[0m  \u001b[1;31m# pylint: disable=protected-access\u001b[0m\u001b[1;33m\u001b[0m\u001b[1;33m\u001b[0m\u001b[0m\n\u001b[1;32m--> 108\u001b[1;33m       \u001b[1;32mreturn\u001b[0m \u001b[0mmethod\u001b[0m\u001b[1;33m(\u001b[0m\u001b[0mself\u001b[0m\u001b[1;33m,\u001b[0m \u001b[1;33m*\u001b[0m\u001b[0margs\u001b[0m\u001b[1;33m,\u001b[0m \u001b[1;33m**\u001b[0m\u001b[0mkwargs\u001b[0m\u001b[1;33m)\u001b[0m\u001b[1;33m\u001b[0m\u001b[1;33m\u001b[0m\u001b[0m\n\u001b[0m\u001b[0;32m    109\u001b[0m \u001b[1;33m\u001b[0m\u001b[0m\n\u001b[0;32m    110\u001b[0m     \u001b[1;31m# Running inside `run_distribute_coordinator` already.\u001b[0m\u001b[1;33m\u001b[0m\u001b[1;33m\u001b[0m\u001b[1;33m\u001b[0m\u001b[0m\n",
      "\u001b[1;32mC:\\ProgramData\\Anaconda3\\lib\\site-packages\\tensorflow\\python\\keras\\engine\\training.py\u001b[0m in \u001b[0;36mfit\u001b[1;34m(self, x, y, batch_size, epochs, verbose, callbacks, validation_split, validation_data, shuffle, class_weight, sample_weight, initial_epoch, steps_per_epoch, validation_steps, validation_batch_size, validation_freq, max_queue_size, workers, use_multiprocessing)\u001b[0m\n\u001b[0;32m   1096\u001b[0m                 batch_size=batch_size):\n\u001b[0;32m   1097\u001b[0m               \u001b[0mcallbacks\u001b[0m\u001b[1;33m.\u001b[0m\u001b[0mon_train_batch_begin\u001b[0m\u001b[1;33m(\u001b[0m\u001b[0mstep\u001b[0m\u001b[1;33m)\u001b[0m\u001b[1;33m\u001b[0m\u001b[1;33m\u001b[0m\u001b[0m\n\u001b[1;32m-> 1098\u001b[1;33m               \u001b[0mtmp_logs\u001b[0m \u001b[1;33m=\u001b[0m \u001b[0mtrain_function\u001b[0m\u001b[1;33m(\u001b[0m\u001b[0miterator\u001b[0m\u001b[1;33m)\u001b[0m\u001b[1;33m\u001b[0m\u001b[1;33m\u001b[0m\u001b[0m\n\u001b[0m\u001b[0;32m   1099\u001b[0m               \u001b[1;32mif\u001b[0m \u001b[0mdata_handler\u001b[0m\u001b[1;33m.\u001b[0m\u001b[0mshould_sync\u001b[0m\u001b[1;33m:\u001b[0m\u001b[1;33m\u001b[0m\u001b[1;33m\u001b[0m\u001b[0m\n\u001b[0;32m   1100\u001b[0m                 \u001b[0mcontext\u001b[0m\u001b[1;33m.\u001b[0m\u001b[0masync_wait\u001b[0m\u001b[1;33m(\u001b[0m\u001b[1;33m)\u001b[0m\u001b[1;33m\u001b[0m\u001b[1;33m\u001b[0m\u001b[0m\n",
      "\u001b[1;32mC:\\ProgramData\\Anaconda3\\lib\\site-packages\\tensorflow\\python\\eager\\def_function.py\u001b[0m in \u001b[0;36m__call__\u001b[1;34m(self, *args, **kwds)\u001b[0m\n\u001b[0;32m    778\u001b[0m       \u001b[1;32melse\u001b[0m\u001b[1;33m:\u001b[0m\u001b[1;33m\u001b[0m\u001b[1;33m\u001b[0m\u001b[0m\n\u001b[0;32m    779\u001b[0m         \u001b[0mcompiler\u001b[0m \u001b[1;33m=\u001b[0m \u001b[1;34m\"nonXla\"\u001b[0m\u001b[1;33m\u001b[0m\u001b[1;33m\u001b[0m\u001b[0m\n\u001b[1;32m--> 780\u001b[1;33m         \u001b[0mresult\u001b[0m \u001b[1;33m=\u001b[0m \u001b[0mself\u001b[0m\u001b[1;33m.\u001b[0m\u001b[0m_call\u001b[0m\u001b[1;33m(\u001b[0m\u001b[1;33m*\u001b[0m\u001b[0margs\u001b[0m\u001b[1;33m,\u001b[0m \u001b[1;33m**\u001b[0m\u001b[0mkwds\u001b[0m\u001b[1;33m)\u001b[0m\u001b[1;33m\u001b[0m\u001b[1;33m\u001b[0m\u001b[0m\n\u001b[0m\u001b[0;32m    781\u001b[0m \u001b[1;33m\u001b[0m\u001b[0m\n\u001b[0;32m    782\u001b[0m       \u001b[0mnew_tracing_count\u001b[0m \u001b[1;33m=\u001b[0m \u001b[0mself\u001b[0m\u001b[1;33m.\u001b[0m\u001b[0m_get_tracing_count\u001b[0m\u001b[1;33m(\u001b[0m\u001b[1;33m)\u001b[0m\u001b[1;33m\u001b[0m\u001b[1;33m\u001b[0m\u001b[0m\n",
      "\u001b[1;32mC:\\ProgramData\\Anaconda3\\lib\\site-packages\\tensorflow\\python\\eager\\def_function.py\u001b[0m in \u001b[0;36m_call\u001b[1;34m(self, *args, **kwds)\u001b[0m\n\u001b[0;32m    805\u001b[0m       \u001b[1;31m# In this case we have created variables on the first call, so we run the\u001b[0m\u001b[1;33m\u001b[0m\u001b[1;33m\u001b[0m\u001b[1;33m\u001b[0m\u001b[0m\n\u001b[0;32m    806\u001b[0m       \u001b[1;31m# defunned version which is guaranteed to never create variables.\u001b[0m\u001b[1;33m\u001b[0m\u001b[1;33m\u001b[0m\u001b[1;33m\u001b[0m\u001b[0m\n\u001b[1;32m--> 807\u001b[1;33m       \u001b[1;32mreturn\u001b[0m \u001b[0mself\u001b[0m\u001b[1;33m.\u001b[0m\u001b[0m_stateless_fn\u001b[0m\u001b[1;33m(\u001b[0m\u001b[1;33m*\u001b[0m\u001b[0margs\u001b[0m\u001b[1;33m,\u001b[0m \u001b[1;33m**\u001b[0m\u001b[0mkwds\u001b[0m\u001b[1;33m)\u001b[0m  \u001b[1;31m# pylint: disable=not-callable\u001b[0m\u001b[1;33m\u001b[0m\u001b[1;33m\u001b[0m\u001b[0m\n\u001b[0m\u001b[0;32m    808\u001b[0m     \u001b[1;32melif\u001b[0m \u001b[0mself\u001b[0m\u001b[1;33m.\u001b[0m\u001b[0m_stateful_fn\u001b[0m \u001b[1;32mis\u001b[0m \u001b[1;32mnot\u001b[0m \u001b[1;32mNone\u001b[0m\u001b[1;33m:\u001b[0m\u001b[1;33m\u001b[0m\u001b[1;33m\u001b[0m\u001b[0m\n\u001b[0;32m    809\u001b[0m       \u001b[1;31m# Release the lock early so that multiple threads can perform the call\u001b[0m\u001b[1;33m\u001b[0m\u001b[1;33m\u001b[0m\u001b[1;33m\u001b[0m\u001b[0m\n",
      "\u001b[1;32mC:\\ProgramData\\Anaconda3\\lib\\site-packages\\tensorflow\\python\\eager\\function.py\u001b[0m in \u001b[0;36m__call__\u001b[1;34m(self, *args, **kwargs)\u001b[0m\n\u001b[0;32m   2827\u001b[0m     \u001b[1;32mwith\u001b[0m \u001b[0mself\u001b[0m\u001b[1;33m.\u001b[0m\u001b[0m_lock\u001b[0m\u001b[1;33m:\u001b[0m\u001b[1;33m\u001b[0m\u001b[1;33m\u001b[0m\u001b[0m\n\u001b[0;32m   2828\u001b[0m       \u001b[0mgraph_function\u001b[0m\u001b[1;33m,\u001b[0m \u001b[0margs\u001b[0m\u001b[1;33m,\u001b[0m \u001b[0mkwargs\u001b[0m \u001b[1;33m=\u001b[0m \u001b[0mself\u001b[0m\u001b[1;33m.\u001b[0m\u001b[0m_maybe_define_function\u001b[0m\u001b[1;33m(\u001b[0m\u001b[0margs\u001b[0m\u001b[1;33m,\u001b[0m \u001b[0mkwargs\u001b[0m\u001b[1;33m)\u001b[0m\u001b[1;33m\u001b[0m\u001b[1;33m\u001b[0m\u001b[0m\n\u001b[1;32m-> 2829\u001b[1;33m     \u001b[1;32mreturn\u001b[0m \u001b[0mgraph_function\u001b[0m\u001b[1;33m.\u001b[0m\u001b[0m_filtered_call\u001b[0m\u001b[1;33m(\u001b[0m\u001b[0margs\u001b[0m\u001b[1;33m,\u001b[0m \u001b[0mkwargs\u001b[0m\u001b[1;33m)\u001b[0m  \u001b[1;31m# pylint: disable=protected-access\u001b[0m\u001b[1;33m\u001b[0m\u001b[1;33m\u001b[0m\u001b[0m\n\u001b[0m\u001b[0;32m   2830\u001b[0m \u001b[1;33m\u001b[0m\u001b[0m\n\u001b[0;32m   2831\u001b[0m   \u001b[1;33m@\u001b[0m\u001b[0mproperty\u001b[0m\u001b[1;33m\u001b[0m\u001b[1;33m\u001b[0m\u001b[0m\n",
      "\u001b[1;32mC:\\ProgramData\\Anaconda3\\lib\\site-packages\\tensorflow\\python\\eager\\function.py\u001b[0m in \u001b[0;36m_filtered_call\u001b[1;34m(self, args, kwargs, cancellation_manager)\u001b[0m\n\u001b[0;32m   1841\u001b[0m       \u001b[0;31m`\u001b[0m\u001b[0margs\u001b[0m\u001b[0;31m`\u001b[0m \u001b[1;32mand\u001b[0m\u001b[0;31m \u001b[0m\u001b[0;31m`\u001b[0m\u001b[0mkwargs\u001b[0m\u001b[0;31m`\u001b[0m\u001b[1;33m.\u001b[0m\u001b[1;33m\u001b[0m\u001b[1;33m\u001b[0m\u001b[0m\n\u001b[0;32m   1842\u001b[0m     \"\"\"\n\u001b[1;32m-> 1843\u001b[1;33m     return self._call_flat(\n\u001b[0m\u001b[0;32m   1844\u001b[0m         [t for t in nest.flatten((args, kwargs), expand_composites=True)\n\u001b[0;32m   1845\u001b[0m          if isinstance(t, (ops.Tensor,\n",
      "\u001b[1;32mC:\\ProgramData\\Anaconda3\\lib\\site-packages\\tensorflow\\python\\eager\\function.py\u001b[0m in \u001b[0;36m_call_flat\u001b[1;34m(self, args, captured_inputs, cancellation_manager)\u001b[0m\n\u001b[0;32m   1921\u001b[0m         and executing_eagerly):\n\u001b[0;32m   1922\u001b[0m       \u001b[1;31m# No tape is watching; skip to running the function.\u001b[0m\u001b[1;33m\u001b[0m\u001b[1;33m\u001b[0m\u001b[1;33m\u001b[0m\u001b[0m\n\u001b[1;32m-> 1923\u001b[1;33m       return self._build_call_outputs(self._inference_function.call(\n\u001b[0m\u001b[0;32m   1924\u001b[0m           ctx, args, cancellation_manager=cancellation_manager))\n\u001b[0;32m   1925\u001b[0m     forward_backward = self._select_forward_and_backward_functions(\n",
      "\u001b[1;32mC:\\ProgramData\\Anaconda3\\lib\\site-packages\\tensorflow\\python\\eager\\function.py\u001b[0m in \u001b[0;36mcall\u001b[1;34m(self, ctx, args, cancellation_manager)\u001b[0m\n\u001b[0;32m    543\u001b[0m       \u001b[1;32mwith\u001b[0m \u001b[0m_InterpolateFunctionError\u001b[0m\u001b[1;33m(\u001b[0m\u001b[0mself\u001b[0m\u001b[1;33m)\u001b[0m\u001b[1;33m:\u001b[0m\u001b[1;33m\u001b[0m\u001b[1;33m\u001b[0m\u001b[0m\n\u001b[0;32m    544\u001b[0m         \u001b[1;32mif\u001b[0m \u001b[0mcancellation_manager\u001b[0m \u001b[1;32mis\u001b[0m \u001b[1;32mNone\u001b[0m\u001b[1;33m:\u001b[0m\u001b[1;33m\u001b[0m\u001b[1;33m\u001b[0m\u001b[0m\n\u001b[1;32m--> 545\u001b[1;33m           outputs = execute.execute(\n\u001b[0m\u001b[0;32m    546\u001b[0m               \u001b[0mstr\u001b[0m\u001b[1;33m(\u001b[0m\u001b[0mself\u001b[0m\u001b[1;33m.\u001b[0m\u001b[0msignature\u001b[0m\u001b[1;33m.\u001b[0m\u001b[0mname\u001b[0m\u001b[1;33m)\u001b[0m\u001b[1;33m,\u001b[0m\u001b[1;33m\u001b[0m\u001b[1;33m\u001b[0m\u001b[0m\n\u001b[0;32m    547\u001b[0m               \u001b[0mnum_outputs\u001b[0m\u001b[1;33m=\u001b[0m\u001b[0mself\u001b[0m\u001b[1;33m.\u001b[0m\u001b[0m_num_outputs\u001b[0m\u001b[1;33m,\u001b[0m\u001b[1;33m\u001b[0m\u001b[1;33m\u001b[0m\u001b[0m\n",
      "\u001b[1;32mC:\\ProgramData\\Anaconda3\\lib\\site-packages\\tensorflow\\python\\eager\\execute.py\u001b[0m in \u001b[0;36mquick_execute\u001b[1;34m(op_name, num_outputs, inputs, attrs, ctx, name)\u001b[0m\n\u001b[0;32m     57\u001b[0m   \u001b[1;32mtry\u001b[0m\u001b[1;33m:\u001b[0m\u001b[1;33m\u001b[0m\u001b[1;33m\u001b[0m\u001b[0m\n\u001b[0;32m     58\u001b[0m     \u001b[0mctx\u001b[0m\u001b[1;33m.\u001b[0m\u001b[0mensure_initialized\u001b[0m\u001b[1;33m(\u001b[0m\u001b[1;33m)\u001b[0m\u001b[1;33m\u001b[0m\u001b[1;33m\u001b[0m\u001b[0m\n\u001b[1;32m---> 59\u001b[1;33m     tensors = pywrap_tfe.TFE_Py_Execute(ctx._handle, device_name, op_name,\n\u001b[0m\u001b[0;32m     60\u001b[0m                                         inputs, attrs, num_outputs)\n\u001b[0;32m     61\u001b[0m   \u001b[1;32mexcept\u001b[0m \u001b[0mcore\u001b[0m\u001b[1;33m.\u001b[0m\u001b[0m_NotOkStatusException\u001b[0m \u001b[1;32mas\u001b[0m \u001b[0me\u001b[0m\u001b[1;33m:\u001b[0m\u001b[1;33m\u001b[0m\u001b[1;33m\u001b[0m\u001b[0m\n",
      "\u001b[1;31mKeyboardInterrupt\u001b[0m: "
     ]
    }
   ],
   "source": [
    "# training the model\n",
    "CV_model.fit_generator(\n",
    "        train_generator,\n",
    "        steps_per_epoch= 400/batch_size,\n",
    "        epochs=50,\n",
    "        validation_data=validation_generator,\n",
    "        validation_steps= 98/batch_size)\n",
    "\n",
    "CV_model.save_weights('first_try.h5')"
   ]
  },
  {
   "cell_type": "markdown",
   "id": "horizontal-peripheral",
   "metadata": {},
   "source": [
    "The accuracy score is no better than a random guess. Several optimizers have been used as well as different batch sizes.  "
   ]
  }
 ],
 "metadata": {
  "kernelspec": {
   "display_name": "Python 3",
   "language": "python",
   "name": "python3"
  },
  "language_info": {
   "codemirror_mode": {
    "name": "ipython",
    "version": 3
   },
   "file_extension": ".py",
   "mimetype": "text/x-python",
   "name": "python",
   "nbconvert_exporter": "python",
   "pygments_lexer": "ipython3",
   "version": "3.8.8"
  }
 },
 "nbformat": 4,
 "nbformat_minor": 5
}
