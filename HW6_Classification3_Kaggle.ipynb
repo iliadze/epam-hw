{
 "cells": [
  {
   "cell_type": "markdown",
   "id": "blind-direction",
   "metadata": {},
   "source": [
    "## INTRODUCTION"
   ]
  },
  {
   "cell_type": "markdown",
   "id": "offshore-poetry",
   "metadata": {},
   "source": [
    "The dataset consists of user data collected from transitions through web pages. The aim is to classify one user among all the users."
   ]
  },
  {
   "cell_type": "markdown",
   "id": "lesser-blink",
   "metadata": {},
   "source": [
    "### IMPORTS"
   ]
  },
  {
   "cell_type": "code",
   "execution_count": 297,
   "id": "undefined-crown",
   "metadata": {},
   "outputs": [
    {
     "name": "stdout",
     "output_type": "stream",
     "text": [
      "^C\n",
      "Requirement already satisfied: pyarrow in c:\\programdata\\anaconda3\\lib\\site-packages (3.0.0)Requirement already satisfied: imbalanced-learn in c:\\programdata\\anaconda3\\lib\\site-packages (0.8.0)\n",
      "Requirement already satisfied: numpy>=1.16.6 in c:\\programdata\\anaconda3\\lib\\site-packages (from pyarrow) (1.19.2)\n",
      "\n",
      "Requirement already satisfied: scikit-learn>=0.24 in c:\\programdata\\anaconda3\\lib\\site-packages (from imbalanced-learn) (0.24.1)\n",
      "Requirement already satisfied: numpy>=1.13.3 in c:\\programdata\\anaconda3\\lib\\site-packages (from imbalanced-learn) (1.19.2)\n",
      "Requirement already satisfied: scipy>=0.19.1 in c:\\programdata\\anaconda3\\lib\\site-packages (from imbalanced-learn) (1.6.1)\n",
      "Requirement already satisfied: joblib>=0.11 in c:\\programdata\\anaconda3\\lib\\site-packages (from imbalanced-learn) (1.0.1)\n",
      "Requirement already satisfied: threadpoolctl>=2.0.0 in c:\\programdata\\anaconda3\\lib\\site-packages (from scikit-learn>=0.24->imbalanced-learn) (2.1.0)\n",
      "Requirement already satisfied: lightgbm in c:\\programdata\\anaconda3\\lib\\site-packages (3.2.1)\n",
      "Requirement already satisfied: scipy in c:\\programdata\\anaconda3\\lib\\site-packages (from lightgbm) (1.6.1)\n",
      "Requirement already satisfied: scikit-learn!=0.22.0 in c:\\programdata\\anaconda3\\lib\\site-packages (from lightgbm) (0.24.1)\n",
      "Requirement already satisfied: numpy in c:\\programdata\\anaconda3\\lib\\site-packages (from lightgbm) (1.19.2)\n",
      "Requirement already satisfied: wheel in c:\\programdata\\anaconda3\\lib\\site-packages (from lightgbm) (0.36.2)\n",
      "Requirement already satisfied: threadpoolctl>=2.0.0 in c:\\programdata\\anaconda3\\lib\\site-packages (from scikit-learn!=0.22.0->lightgbm) (2.1.0)\n",
      "Requirement already satisfied: joblib>=0.11 in c:\\programdata\\anaconda3\\lib\\site-packages (from scikit-learn!=0.22.0->lightgbm) (1.0.1)\n",
      "Requirement already satisfied: xgboost in c:\\programdata\\anaconda3\\lib\\site-packages (1.4.1)\n",
      "Requirement already satisfied: scipy in c:\\programdata\\anaconda3\\lib\\site-packages (from xgboost) (1.6.1)\n",
      "Requirement already satisfied: numpy in c:\\programdata\\anaconda3\\lib\\site-packages (from xgboost) (1.19.2)\n",
      "Requirement already satisfied: hyperopt in c:\\programdata\\anaconda3\\lib\\site-packages (0.2.5)\n",
      "Requirement already satisfied: numpy in c:\\programdata\\anaconda3\\lib\\site-packages (from hyperopt) (1.19.2)\n",
      "Requirement already satisfied: networkx>=2.2 in c:\\programdata\\anaconda3\\lib\\site-packages (from hyperopt) (2.5)\n",
      "Requirement already satisfied: six in c:\\programdata\\anaconda3\\lib\\site-packages (from hyperopt) (1.15.0)\n",
      "Requirement already satisfied: cloudpickle in c:\\programdata\\anaconda3\\lib\\site-packages (from hyperopt) (1.6.0)\n",
      "Requirement already satisfied: tqdm in c:\\programdata\\anaconda3\\lib\\site-packages (from hyperopt) (4.59.0)\n",
      "Requirement already satisfied: future in c:\\programdata\\anaconda3\\lib\\site-packages (from hyperopt) (0.18.2)\n",
      "Requirement already satisfied: scipy in c:\\programdata\\anaconda3\\lib\\site-packages (from hyperopt) (1.6.1)\n",
      "Requirement already satisfied: decorator>=4.3.0 in c:\\programdata\\anaconda3\\lib\\site-packages (from networkx>=2.2->hyperopt) (4.4.2)\n"
     ]
    }
   ],
   "source": [
    "!pip install pyarrow\n",
    "!pip install imbalanced-learn\n",
    "!pip install lightgbm\n",
    "!pip install xgboost\n",
    "!pip install hyperopt"
   ]
  },
  {
   "cell_type": "code",
   "execution_count": 298,
   "id": "proprietary-inflation",
   "metadata": {},
   "outputs": [],
   "source": [
    "import pandas as pd\n",
    "import numpy as np\n",
    "import scipy.stats\n",
    "import pyarrow.parquet as pq\n",
    "\n",
    "import matplotlib.pyplot as plt\n",
    "import seaborn as sns\n",
    "\n",
    "import os\n",
    "\n",
    "from imblearn.under_sampling import RandomUnderSampler\n",
    "from imblearn.over_sampling import SMOTENC\n",
    "from imblearn.pipeline import make_pipeline\n",
    "\n",
    "from sklearn.feature_extraction import FeatureHasher\n",
    "from sklearn.ensemble import RandomForestClassifier, GradientBoostingClassifier, AdaBoostClassifier\n",
    "import lightgbm as lgb\n",
    "from xgboost import XGBClassifier\n",
    "from sklearn.metrics import roc_auc_score\n",
    "from tqdm import tqdm\n",
    "\n",
    "from sklearn.model_selection import train_test_split, StratifiedKFold, GridSearchCV, cross_val_score\n",
    "from sklearn.pipeline import Pipeline\n",
    "from sklearn.preprocessing import StandardScaler\n",
    "from sklearn.svm import SVC\n",
    "\n",
    "from hyperopt import STATUS_OK, Trials, fmin, hp, tpe\n",
    "\n",
    "import warnings \n",
    "warnings.filterwarnings('ignore')\n",
    "\n",
    "%matplotlib inline\n",
    "plt.rcParams['figure.figsize'] = (5, 5)"
   ]
  },
  {
   "cell_type": "markdown",
   "id": "printable-object",
   "metadata": {},
   "source": [
    "### FUNCTIONS AND COMMONLY USED CONSTANTS"
   ]
  },
  {
   "cell_type": "code",
   "execution_count": 299,
   "id": "criminal-ordering",
   "metadata": {},
   "outputs": [],
   "source": [
    "def preproc(df):\n",
    "    return (\n",
    "        df.assign(            \n",
    "            # session duration\n",
    "            duration = lambda x: x.filter(like='dt_').apply(lambda row: row.sum(), axis=1),\n",
    "            \n",
    "            # proportion of missing pages\n",
    "            missing_pages = lambda x: x.filter(like='webpage').isna().sum(axis=1) / 10,\n",
    "            \n",
    "            # avg duration per visited page\n",
    "            avg_duration = lambda x: \n",
    "                x.filter(like='duration').apply(lambda x: x.sum(), axis=1) / (10 - x.missing_pages),\n",
    "            \n",
    "            # proportion of unique pages in session\n",
    "            unique_pages = lambda x: \n",
    "                x.filter(like='webpage').apply(lambda row: row.nunique(), axis=1) / (10 - x.missing_pages),\n",
    "            \n",
    "            # most visited page\n",
    "            mode_page = lambda x: x.filter(like='webpage').apply(lambda row: row.mode().iat[0], axis=1),\n",
    "            \n",
    "            # year of a session\n",
    "            year = lambda x: x.filter(like='time').apply(lambda x: x.dt.year).mean(axis=1),\n",
    "            \n",
    "            # month of a session\n",
    "            avg_month = lambda x: x.filter(like='time').apply(lambda x: x.dt.month).mean(axis=1),\n",
    "            \n",
    "            # day of a session\n",
    "            avg_day = lambda x: x.filter(like='time').apply(lambda x: x.dt.day).mean(axis=1),\n",
    "           \n",
    "            # avg hour of day in a session\n",
    "            avg_hour = lambda x: x.filter(like='time').apply(lambda x: x.dt.hour).mean(axis=1),\n",
    "            \n",
    "            # avg day of week in a session\n",
    "            avg_weekday = lambda x: x.filter(like='time').apply(lambda x: x.dt.dayofweek).mean(axis=1),\n",
    "            \n",
    "            # creating cyclical features\n",
    "            hour_sin = lambda x: x.filter(like='avg_hour').apply(lambda x: np.sin(x*(2.*np.pi/24))),\n",
    "            hour_cos = lambda x: x.filter(like='avg_hour').apply(lambda x: np.cos(x*(2.*np.pi/24))),\n",
    "            \n",
    "            day_sin = lambda x: x.filter(like='avg_day').apply(lambda x: np.sin(x*(2.*np.pi/30))),\n",
    "            day_cos = lambda x: x.filter(like='avg_day').apply(lambda x: np.cos(x*(2.*np.pi/30))),\n",
    "            \n",
    "            weekday_sin = lambda x: x.filter(like='avg_weekday').apply(lambda x: np.sin(x*(2.*np.pi/7))),\n",
    "            weekday_cos = lambda x: x.filter(like='avg_weekday').apply(lambda x: np.cos(x*(2.*np.pi/7))),\n",
    "            \n",
    "            month_sin = lambda x: x.filter(like='avg_month').apply(lambda x: np.sin(x*(2.*np.pi/12))),\n",
    "            month_cos = lambda x: x.filter(like='avg_month').apply(lambda x: np.cos(x*(2.*np.pi/12))),\n",
    "            \n",
    "        )\n",
    "       \n",
    "        # drop time columns\n",
    "        .drop(columns=[f'time{i+1}' for i in range(10)])\n",
    "        \n",
    "        # fill missing pages with -200\n",
    "        .fillna(-200)\n",
    "    )"
   ]
  },
  {
   "cell_type": "markdown",
   "id": "promotional-telephone",
   "metadata": {},
   "source": [
    "## DATASET PREPARATION"
   ]
  },
  {
   "cell_type": "code",
   "execution_count": 300,
   "id": "rocky-building",
   "metadata": {},
   "outputs": [],
   "source": [
    "table_websites = pq.read_table(r'C:\\Users\\1\\Desktop\\id_map.parquet')"
   ]
  },
  {
   "cell_type": "code",
   "execution_count": 301,
   "id": "spare-strategy",
   "metadata": {},
   "outputs": [],
   "source": [
    "table_websites = table_websites.to_pandas()\n"
   ]
  },
  {
   "cell_type": "code",
   "execution_count": 302,
   "id": "southern-latin",
   "metadata": {},
   "outputs": [],
   "source": [
    "df_train = pd.read_csv(r'C:\\Users\\1\\Desktop\\HW_Classification\\train.csv', index_col=0)\n",
    "df_test = pd.read_csv(r'C:\\Users\\1\\Desktop\\HW_Classification\\test.csv', index_col=0)"
   ]
  },
  {
   "cell_type": "code",
   "execution_count": 303,
   "id": "caroline-arbitration",
   "metadata": {},
   "outputs": [],
   "source": [
    "time_cols = [col for col in df_train.columns if 'time' in col]\n",
    "webpage_cols = [col for col in df_train.columns if 'webpage' in col]\n",
    "target = df_train.target"
   ]
  },
  {
   "cell_type": "code",
   "execution_count": 304,
   "id": "essential-hepatitis",
   "metadata": {},
   "outputs": [],
   "source": [
    "for i in time_cols:\n",
    "    df_train[i] = pd.to_datetime(df_train[i], format='%Y-%m-%d %H:%M:%S')\n",
    "    df_test[i] = pd.to_datetime(df_test[i], format='%Y-%m-%d %H:%M:%S')"
   ]
  },
  {
   "cell_type": "code",
   "execution_count": 305,
   "id": "given-convertible",
   "metadata": {},
   "outputs": [],
   "source": [
    "for i in range(1,10):\n",
    "    df_train['dt_'+str(i)] = (df_train['time'+str(i+1)] - df_train['time'+str(i)]).dt.seconds\n",
    "    df_test['dt_'+str(i)] = (df_test['time'+str(i+1)] - df_test['time'+str(i)]).dt.seconds\n",
    "    \n",
    "time_delta_cols = [col for col in df_train.columns if 'dt_' in col]"
   ]
  },
  {
   "cell_type": "code",
   "execution_count": 306,
   "id": "metropolitan-career",
   "metadata": {},
   "outputs": [],
   "source": [
    "df_train_proc = preproc(df_train)"
   ]
  },
  {
   "cell_type": "code",
   "execution_count": 307,
   "id": "mounted-headline",
   "metadata": {},
   "outputs": [],
   "source": [
    "df_test_proc = preproc(df_test)"
   ]
  },
  {
   "cell_type": "code",
   "execution_count": 308,
   "id": "helpful-network",
   "metadata": {},
   "outputs": [
    {
     "data": {
      "text/html": [
       "<div>\n",
       "<style scoped>\n",
       "    .dataframe tbody tr th:only-of-type {\n",
       "        vertical-align: middle;\n",
       "    }\n",
       "\n",
       "    .dataframe tbody tr th {\n",
       "        vertical-align: top;\n",
       "    }\n",
       "\n",
       "    .dataframe thead th {\n",
       "        text-align: right;\n",
       "    }\n",
       "</style>\n",
       "<table border=\"1\" class=\"dataframe\">\n",
       "  <thead>\n",
       "    <tr style=\"text-align: right;\">\n",
       "      <th></th>\n",
       "      <th>webpage1</th>\n",
       "      <th>webpage2</th>\n",
       "      <th>webpage3</th>\n",
       "      <th>webpage4</th>\n",
       "      <th>webpage5</th>\n",
       "      <th>webpage6</th>\n",
       "      <th>webpage7</th>\n",
       "      <th>webpage8</th>\n",
       "      <th>webpage9</th>\n",
       "      <th>webpage10</th>\n",
       "      <th>...</th>\n",
       "      <th>avg_hour</th>\n",
       "      <th>avg_weekday</th>\n",
       "      <th>hour_sin</th>\n",
       "      <th>hour_cos</th>\n",
       "      <th>day_sin</th>\n",
       "      <th>day_cos</th>\n",
       "      <th>weekday_sin</th>\n",
       "      <th>weekday_cos</th>\n",
       "      <th>month_sin</th>\n",
       "      <th>month_cos</th>\n",
       "    </tr>\n",
       "    <tr>\n",
       "      <th>session_id</th>\n",
       "      <th></th>\n",
       "      <th></th>\n",
       "      <th></th>\n",
       "      <th></th>\n",
       "      <th></th>\n",
       "      <th></th>\n",
       "      <th></th>\n",
       "      <th></th>\n",
       "      <th></th>\n",
       "      <th></th>\n",
       "      <th></th>\n",
       "      <th></th>\n",
       "      <th></th>\n",
       "      <th></th>\n",
       "      <th></th>\n",
       "      <th></th>\n",
       "      <th></th>\n",
       "      <th></th>\n",
       "      <th></th>\n",
       "      <th></th>\n",
       "      <th></th>\n",
       "    </tr>\n",
       "  </thead>\n",
       "  <tbody>\n",
       "    <tr>\n",
       "      <th>0</th>\n",
       "      <td>9486</td>\n",
       "      <td>-200.0</td>\n",
       "      <td>-200.0</td>\n",
       "      <td>-200.0</td>\n",
       "      <td>-200.0</td>\n",
       "      <td>-200.0</td>\n",
       "      <td>-200.0</td>\n",
       "      <td>-200.0</td>\n",
       "      <td>-200.0</td>\n",
       "      <td>-200.0</td>\n",
       "      <td>...</td>\n",
       "      <td>5.0</td>\n",
       "      <td>2.0</td>\n",
       "      <td>9.659258e-01</td>\n",
       "      <td>2.588190e-01</td>\n",
       "      <td>-0.866025</td>\n",
       "      <td>-0.500000</td>\n",
       "      <td>0.974928</td>\n",
       "      <td>-0.222521</td>\n",
       "      <td>8.660254e-01</td>\n",
       "      <td>0.5</td>\n",
       "    </tr>\n",
       "    <tr>\n",
       "      <th>1</th>\n",
       "      <td>11722</td>\n",
       "      <td>12385.0</td>\n",
       "      <td>50163.0</td>\n",
       "      <td>12385.0</td>\n",
       "      <td>12398.0</td>\n",
       "      <td>50150.0</td>\n",
       "      <td>50163.0</td>\n",
       "      <td>50150.0</td>\n",
       "      <td>19860.0</td>\n",
       "      <td>19886.0</td>\n",
       "      <td>...</td>\n",
       "      <td>7.0</td>\n",
       "      <td>4.0</td>\n",
       "      <td>9.659258e-01</td>\n",
       "      <td>-2.588190e-01</td>\n",
       "      <td>-0.994522</td>\n",
       "      <td>-0.104528</td>\n",
       "      <td>-0.433884</td>\n",
       "      <td>-0.900969</td>\n",
       "      <td>8.660254e-01</td>\n",
       "      <td>0.5</td>\n",
       "    </tr>\n",
       "    <tr>\n",
       "      <th>2</th>\n",
       "      <td>192149</td>\n",
       "      <td>659.0</td>\n",
       "      <td>192136.0</td>\n",
       "      <td>192149.0</td>\n",
       "      <td>633.0</td>\n",
       "      <td>659.0</td>\n",
       "      <td>192136.0</td>\n",
       "      <td>192136.0</td>\n",
       "      <td>192136.0</td>\n",
       "      <td>192136.0</td>\n",
       "      <td>...</td>\n",
       "      <td>12.0</td>\n",
       "      <td>6.0</td>\n",
       "      <td>1.224647e-16</td>\n",
       "      <td>-1.000000e+00</td>\n",
       "      <td>-0.207912</td>\n",
       "      <td>-0.978148</td>\n",
       "      <td>-0.781831</td>\n",
       "      <td>0.623490</td>\n",
       "      <td>-2.449294e-16</td>\n",
       "      <td>1.0</td>\n",
       "    </tr>\n",
       "    <tr>\n",
       "      <th>3</th>\n",
       "      <td>10591</td>\n",
       "      <td>451.0</td>\n",
       "      <td>77580.0</td>\n",
       "      <td>227821.0</td>\n",
       "      <td>633.0</td>\n",
       "      <td>425.0</td>\n",
       "      <td>10591.0</td>\n",
       "      <td>227834.0</td>\n",
       "      <td>227834.0</td>\n",
       "      <td>227834.0</td>\n",
       "      <td>...</td>\n",
       "      <td>12.0</td>\n",
       "      <td>2.0</td>\n",
       "      <td>1.224647e-16</td>\n",
       "      <td>-1.000000e+00</td>\n",
       "      <td>0.406737</td>\n",
       "      <td>-0.913545</td>\n",
       "      <td>0.974928</td>\n",
       "      <td>-0.222521</td>\n",
       "      <td>8.660254e-01</td>\n",
       "      <td>0.5</td>\n",
       "    </tr>\n",
       "    <tr>\n",
       "      <th>4</th>\n",
       "      <td>438</td>\n",
       "      <td>425.0</td>\n",
       "      <td>529.0</td>\n",
       "      <td>65685.0</td>\n",
       "      <td>187638.0</td>\n",
       "      <td>451.0</td>\n",
       "      <td>425.0</td>\n",
       "      <td>65685.0</td>\n",
       "      <td>187625.0</td>\n",
       "      <td>187625.0</td>\n",
       "      <td>...</td>\n",
       "      <td>6.0</td>\n",
       "      <td>3.0</td>\n",
       "      <td>1.000000e+00</td>\n",
       "      <td>6.123234e-17</td>\n",
       "      <td>0.587785</td>\n",
       "      <td>-0.809017</td>\n",
       "      <td>0.433884</td>\n",
       "      <td>-0.900969</td>\n",
       "      <td>8.660254e-01</td>\n",
       "      <td>-0.5</td>\n",
       "    </tr>\n",
       "  </tbody>\n",
       "</table>\n",
       "<p>5 rows × 38 columns</p>\n",
       "</div>"
      ],
      "text/plain": [
       "            webpage1  webpage2  webpage3  webpage4  webpage5  webpage6  \\\n",
       "session_id                                                               \n",
       "0               9486    -200.0    -200.0    -200.0    -200.0    -200.0   \n",
       "1              11722   12385.0   50163.0   12385.0   12398.0   50150.0   \n",
       "2             192149     659.0  192136.0  192149.0     633.0     659.0   \n",
       "3              10591     451.0   77580.0  227821.0     633.0     425.0   \n",
       "4                438     425.0     529.0   65685.0  187638.0     451.0   \n",
       "\n",
       "            webpage7  webpage8  webpage9  webpage10  ...  avg_hour  \\\n",
       "session_id                                           ...             \n",
       "0             -200.0    -200.0    -200.0     -200.0  ...       5.0   \n",
       "1            50163.0   50150.0   19860.0    19886.0  ...       7.0   \n",
       "2           192136.0  192136.0  192136.0   192136.0  ...      12.0   \n",
       "3            10591.0  227834.0  227834.0   227834.0  ...      12.0   \n",
       "4              425.0   65685.0  187625.0   187625.0  ...       6.0   \n",
       "\n",
       "            avg_weekday      hour_sin      hour_cos   day_sin   day_cos  \\\n",
       "session_id                                                                \n",
       "0                   2.0  9.659258e-01  2.588190e-01 -0.866025 -0.500000   \n",
       "1                   4.0  9.659258e-01 -2.588190e-01 -0.994522 -0.104528   \n",
       "2                   6.0  1.224647e-16 -1.000000e+00 -0.207912 -0.978148   \n",
       "3                   2.0  1.224647e-16 -1.000000e+00  0.406737 -0.913545   \n",
       "4                   3.0  1.000000e+00  6.123234e-17  0.587785 -0.809017   \n",
       "\n",
       "            weekday_sin  weekday_cos     month_sin  month_cos  \n",
       "session_id                                                     \n",
       "0              0.974928    -0.222521  8.660254e-01        0.5  \n",
       "1             -0.433884    -0.900969  8.660254e-01        0.5  \n",
       "2             -0.781831     0.623490 -2.449294e-16        1.0  \n",
       "3              0.974928    -0.222521  8.660254e-01        0.5  \n",
       "4              0.433884    -0.900969  8.660254e-01       -0.5  \n",
       "\n",
       "[5 rows x 38 columns]"
      ]
     },
     "execution_count": 308,
     "metadata": {},
     "output_type": "execute_result"
    }
   ],
   "source": [
    "df_train_proc.head()"
   ]
  },
  {
   "cell_type": "code",
   "execution_count": 309,
   "id": "adjusted-burlington",
   "metadata": {},
   "outputs": [],
   "source": [
    "corr = df_train_proc.corr()"
   ]
  },
  {
   "cell_type": "code",
   "execution_count": 310,
   "id": "aware-sister",
   "metadata": {},
   "outputs": [
    {
     "data": {
      "text/plain": [
       "<AxesSubplot:>"
      ]
     },
     "execution_count": 310,
     "metadata": {},
     "output_type": "execute_result"
    },
    {
     "data": {
      "image/png": "[encoded data removed]",
      "text/plain": [
       "<Figure size 360x360 with 2 Axes>"
      ]
     },
     "metadata": {
      "needs_background": "light"
     },
     "output_type": "display_data"
    }
   ],
   "source": [
    "sns.heatmap(corr, vmax=.3, center=0, square=True, linewidths=0.5)"
   ]
  },
  {
   "cell_type": "markdown",
   "id": "local-master",
   "metadata": {},
   "source": [
    "## MODEL"
   ]
  },
  {
   "cell_type": "code",
   "execution_count": 311,
   "id": "economic-italy",
   "metadata": {},
   "outputs": [],
   "source": [
    "X = df_train_proc.drop('target', axis=1)\n",
    "y = target"
   ]
  },
  {
   "cell_type": "markdown",
   "id": "spectacular-device",
   "metadata": {},
   "source": [
    "- **Undersampling**"
   ]
  },
  {
   "cell_type": "code",
   "execution_count": 313,
   "id": "minimal-float",
   "metadata": {},
   "outputs": [],
   "source": [
    "undersample = RandomUnderSampler(sampling_strategy=0.5)"
   ]
  },
  {
   "cell_type": "code",
   "execution_count": 314,
   "id": "restricted-batch",
   "metadata": {},
   "outputs": [],
   "source": [
    "X_under, y_under = undersample.fit_resample(X, y)"
   ]
  },
  {
   "cell_type": "markdown",
   "id": "crucial-vertical",
   "metadata": {},
   "source": [
    "- **Classifier**"
   ]
  },
  {
   "cell_type": "code",
   "execution_count": 315,
   "id": "married-closer",
   "metadata": {},
   "outputs": [],
   "source": [
    "clf = XGBClassifier()"
   ]
  },
  {
   "cell_type": "markdown",
   "id": "fancy-greenhouse",
   "metadata": {},
   "source": [
    "### HYPERPARAMETERS TUNING"
   ]
  },
  {
   "cell_type": "code",
   "execution_count": 316,
   "id": "administrative-parker",
   "metadata": {},
   "outputs": [],
   "source": [
    "X_train, X_test, y_train, y_test = train_test_split(X_under, y_under, test_size = 0.3, random_state = 0, stratify = y_under)"
   ]
  },
  {
   "cell_type": "code",
   "execution_count": 317,
   "id": "happy-hamburg",
   "metadata": {},
   "outputs": [],
   "source": [
    "space={'max_depth': hp.quniform(\"max_depth\", 3, 18, 1),\n",
    "        'gamma': hp.uniform ('gamma', 1,9),\n",
    "        'reg_alpha' : hp.quniform('reg_alpha', 40,180,1),\n",
    "        'reg_lambda' : hp.uniform('reg_lambda', 0,1),\n",
    "        'colsample_bytree' : hp.uniform('colsample_bytree', 0.5,1),\n",
    "        'min_child_weight' : hp.quniform('min_child_weight', 0, 10, 1),\n",
    "        'n_estimators': 180,\n",
    "        'seed': 0\n",
    "    }"
   ]
  },
  {
   "cell_type": "code",
   "execution_count": 318,
   "id": "aerial-homeless",
   "metadata": {},
   "outputs": [],
   "source": [
    "def objective(space):\n",
    "    clf=XGBClassifier(\n",
    "                    n_estimators =space['n_estimators'], max_depth = int(space['max_depth']), gamma = space['gamma'],\n",
    "                    reg_alpha = int(space['reg_alpha']),min_child_weight=int(space['min_child_weight']),\n",
    "                    colsample_bytree=int(space['colsample_bytree']))\n",
    "    \n",
    "    evaluation = [(X_train, y_train), ( X_test, y_test)]\n",
    "    \n",
    "    clf.fit(X_train, y_train,\n",
    "            eval_set=evaluation, eval_metric=\"auc\",\n",
    "            early_stopping_rounds=10,verbose=False)\n",
    "    \n",
    "\n",
    "    pred = clf.predict(X_test)\n",
    "    roc = roc_auc_score(y_test, clf.predict_proba(X_test)[:, 1])\n",
    "    print (\"SCORE:\", roc)\n",
    "    return {'loss': -roc, 'status': STATUS_OK }"
   ]
  },
  {
   "cell_type": "code",
   "execution_count": 319,
   "id": "behavioral-stockholm",
   "metadata": {},
   "outputs": [
    {
     "name": "stdout",
     "output_type": "stream",
     "text": [
      "SCORE:                                                                                                                 \n",
      "0.8967090618253408                                                                                                     \n",
      "SCORE:                                                                                                                 \n",
      "0.6091949394274976                                                                                                     \n",
      "SCORE:                                                                                                                 \n",
      "0.740836940836941                                                                                                      \n",
      "SCORE:                                                                                                                 \n",
      "0.922310592078034                                                                                                      \n",
      "SCORE:                                                                                                                 \n",
      "0.717100126402452                                                                                                      \n",
      "SCORE:                                                                                                                 \n",
      "0.722614852847411                                                                                                      \n",
      "SCORE:                                                                                                                 \n",
      "0.6717719833998904                                                                                                     \n",
      "SCORE:                                                                                                                 \n",
      "0.9300714789086881                                                                                                     \n",
      "SCORE:                                                                                                                 \n",
      "0.90420483908856                                                                                                       \n",
      "SCORE:                                                                                                                 \n",
      "0.6091949394274976                                                                                                     \n",
      "SCORE:                                                                                                                 \n",
      "0.6612738682506124                                                                                                     \n",
      "SCORE:                                                                                                                 \n",
      "0.9260881237625422                                                                                                     \n",
      "SCORE:                                                                                                                 \n",
      "0.8998657673076278                                                                                                     \n",
      "SCORE:                                                                                                                 \n",
      "0.6192042238553866                                                                                                     \n",
      "SCORE:                                                                                                                 \n",
      "0.6717719833998904                                                                                                     \n",
      "SCORE:                                                                                                                 \n",
      "0.9118527467364677                                                                                                     \n",
      "SCORE:                                                                                                                 \n",
      "0.9032864637515802                                                                                                     \n",
      "SCORE:                                                                                                                 \n",
      "0.6790138371533722                                                                                                     \n",
      "SCORE:                                                                                                                 \n",
      "0.6091949394274976                                                                                                     \n",
      "SCORE:                                                                                                                 \n",
      "0.6612738682506124                                                                                                     \n",
      "SCORE:                                                                                                                 \n",
      "0.9284081121290424                                                                                                     \n",
      "SCORE:                                                                                                                 \n",
      "0.932885891025426                                                                                                      \n",
      "SCORE:                                                                                                                 \n",
      "0.9338635524682036                                                                                                     \n",
      "SCORE:                                                                                                                 \n",
      "0.921159546740942                                                                                                      \n",
      "SCORE:                                                                                                                 \n",
      "0.9231786301553744                                                                                                     \n",
      "SCORE:                                                                                                                 \n",
      "0.9336040359296174                                                                                                     \n",
      "SCORE:                                                                                                                 \n",
      "0.9269606362629618                                                                                                     \n",
      "SCORE:                                                                                                                 \n",
      "0.9194715706343612                                                                                                     \n",
      "SCORE:                                                                                                                 \n",
      "0.9331722541024867                                                                                                     \n",
      "SCORE:                                                                                                                 \n",
      "0.8959719006230635                                                                                                     \n",
      "SCORE:                                                                                                                 \n",
      "0.9176818014027317                                                                                                     \n",
      "SCORE:                                                                                                                 \n",
      "0.8965323221137176                                                                                                     \n",
      "SCORE:                                                                                                                 \n",
      "0.928110562994284                                                                                                      \n",
      "SCORE:                                                                                                                 \n",
      "0.922681969193597                                                                                                      \n",
      "SCORE:                                                                                                                 \n",
      "0.7095014374084141                                                                                                     \n",
      "SCORE:                                                                                                                 \n",
      "0.9004194771636632                                                                                                     \n",
      "SCORE:                                                                                                                 \n",
      "0.9181941228452856                                                                                                     \n",
      "SCORE:                                                                                                                 \n",
      "0.9139993512086535                                                                                                     \n",
      "SCORE:                                                                                                                 \n",
      "0.722865420539839                                                                                                      \n",
      "SCORE:                                                                                                                 \n",
      "0.7103135451972661                                                                                                     \n",
      "SCORE:                                                                                                                 \n",
      "0.9342416412183854                                                                                                     \n",
      "SCORE:                                                                                                                 \n",
      "0.9268778594359991                                                                                                     \n",
      "SCORE:                                                                                                                 \n",
      "0.6703245075338098                                                                                                     \n",
      "SCORE:                                                                                                                 \n",
      "0.9299137554951508                                                                                                     \n",
      "SCORE:                                                                                                                 \n",
      "0.9078179357249125                                                                                                     \n",
      "SCORE:                                                                                                                 \n",
      "0.9155083503920712                                                                                                     \n",
      "SCORE:                                                                                                                 \n",
      "0.728342114388626                                                                                                      \n",
      "SCORE:                                                                                                                 \n",
      "0.9042428716847322                                                                                                     \n",
      "SCORE:                                                                                                                 \n",
      "0.8950647113437811                                                                                                     \n",
      "SCORE:                                                                                                                 \n",
      "0.7211808002505675                                                                                                     \n",
      "SCORE:                                                                                                                 \n",
      "0.9224716713088807                                                                                                     \n",
      "SCORE:                                                                                                                 \n",
      "0.9190107050572166                                                                                                     \n",
      "SCORE:                                                                                                                 \n",
      "0.8932055885544257                                                                                                     \n",
      "SCORE:                                                                                                                 \n",
      "0.9305312258800632                                                                                                     \n",
      "SCORE:                                                                                                                 \n",
      "0.6703245075338098                                                                                                     \n",
      "SCORE:                                                                                                                 \n",
      "0.9048894258196584                                                                                                     \n",
      "SCORE:                                                                                                                 \n",
      "0.9321621530923857                                                                                                     \n",
      "SCORE:                                                                                                                 \n",
      "0.9143628980838283                                                                                                     \n",
      "SCORE:                                                                                                                 \n",
      "0.9216427844334821                                                                                                     \n",
      "SCORE:                                                                                                                 \n",
      "0.9256899001085047                                                                                                     \n",
      "SCORE:                                                                                                                 \n",
      "0.6692416971486739                                                                                                     \n",
      "SCORE:                                                                                                                 \n",
      "0.6612738682506124                                                                                                     \n",
      "SCORE:                                                                                                                 \n",
      "0.9303556047742094                                                                                                     \n",
      "SCORE:                                                                                                                 \n",
      "0.9258207769835677                                                                                                     \n",
      "SCORE:                                                                                                                 \n",
      "0.9165173327964027                                                                                                     \n",
      "SCORE:                                                                                                                 \n",
      "0.9332058122755799                                                                                                     \n",
      "SCORE:                                                                                                                 \n",
      "0.9346599997762789                                                                                                     \n",
      "SCORE:                                                                                                                 \n",
      "0.9284931261675448                                                                                                     \n",
      "SCORE:                                                                                                                 \n",
      "0.9229370113091043                                                                                                     \n",
      "SCORE:                                                                                                                 \n",
      "0.9294663131872435                                                                                                     \n",
      "SCORE:                                                                                                                 \n",
      "0.9181650390952717                                                                                                     \n",
      "SCORE:                                                                                                                 \n",
      "0.921117039721691                                                                                                      \n",
      "SCORE:                                                                                                                 \n",
      "0.9253442509256463                                                                                                     \n",
      "SCORE:                                                                                                                 \n",
      "0.9319585668422878                                                                                                     \n",
      "SCORE:                                                                                                                 \n",
      "0.9107084130339945                                                                                                     \n",
      "SCORE:                                                                                                                 \n",
      "0.9043357159636229                                                                                                     \n",
      "SCORE:                                                                                                                 \n",
      "0.9075807913017215                                                                                                     \n",
      "SCORE:                                                                                                                 \n",
      "0.9329216864100586                                                                                                     \n",
      "SCORE:                                                                                                                 \n",
      "0.9221405640010292                                                                                                     \n",
      "SCORE:                                                                                                                 \n",
      "0.925994160877882                                                                                                      \n",
      "SCORE:                                                                                                                 \n",
      "0.9165766189022002                                                                                                     \n",
      "SCORE:                                                                                                                 \n",
      "0.9317079991498596                                                                                                     \n",
      "SCORE:                                                                                                                 \n",
      "0.9269740595321991                                                                                                     \n",
      "SCORE:                                                                                                                 \n",
      "0.7154423526516551                                                                                                     \n",
      "SCORE:                                                                                                                 \n",
      "0.8953387697573745                                                                                                     \n",
      "SCORE:                                                                                                                 \n",
      "0.9148752195263823                                                                                                     \n",
      "SCORE:                                                                                                                 \n",
      "0.8961609449981544                                                                                                     \n",
      "SCORE:                                                                                                                 \n",
      "0.9305524793896888                                                                                                     \n",
      "SCORE:                                                                                                                 \n",
      "0.9200152130384689                                                                                                     \n",
      "SCORE:                                                                                                                 \n",
      "0.6790138371533722                                                                                                     \n",
      "SCORE:                                                                                                                 \n",
      "0.9050292515408794                                                                                                     \n",
      "SCORE:                                                                                                                 \n",
      "0.6703245075338098                                                                                                     \n",
      "SCORE:                                                                                                                 \n",
      "0.921532042462275                                                                                                      \n",
      "SCORE:                                                                                                                 \n",
      "0.9245164826560177                                                                                                     \n",
      "SCORE:                                                                                                                 \n",
      "0.9301844580914348                                                                                                     \n",
      "SCORE:                                                                                                                 \n",
      "0.9231048021745696                                                                                                     \n",
      "SCORE:                                                                                                                 \n",
      "0.9178786760182109                                                                                                     \n",
      "SCORE:                                                                                                                 \n",
      "0.9310826985245589                                                                                                     \n",
      "SCORE:                                                                                                                 \n",
      "0.9107263107263107                                                                                                     \n",
      "SCORE:                                                                                                                 \n",
      "0.9258342002528048                                                                                                     \n",
      "100%|█████████████████████████████████████████████| 100/100 [00:49<00:00,  2.02trial/s, best loss: -0.9346599997762789]\n"
     ]
    }
   ],
   "source": [
    "trials = Trials()\n",
    "\n",
    "best_hyperparams = fmin(fn = objective,\n",
    "                        space = space,\n",
    "                        algo = tpe.suggest,\n",
    "                        max_evals = 100,\n",
    "                        trials = trials)"
   ]
  },
  {
   "cell_type": "code",
   "execution_count": 320,
   "id": "japanese-appendix",
   "metadata": {},
   "outputs": [
    {
     "name": "stdout",
     "output_type": "stream",
     "text": [
      "{'colsample_bytree': 0.5456494837348737, 'gamma': 1.2170245512153282, 'max_depth': 12.0, 'min_child_weight': 10.0, 'reg_alpha': 40.0, 'reg_lambda': 0.9084191898623541}\n"
     ]
    }
   ],
   "source": [
    "print(best_hyperparams)"
   ]
  },
  {
   "cell_type": "code",
   "execution_count": 327,
   "id": "designed-coordinate",
   "metadata": {},
   "outputs": [],
   "source": [
    "best_hyperparams[\"max_depth\"] = best_hyperparams[\"max_depth\"].astype('int32')"
   ]
  },
  {
   "cell_type": "code",
   "execution_count": 328,
   "id": "subject-there",
   "metadata": {},
   "outputs": [],
   "source": [
    "clf = XGBClassifier(**best_hyperparams)"
   ]
  },
  {
   "cell_type": "code",
   "execution_count": 329,
   "id": "novel-documentation",
   "metadata": {},
   "outputs": [
    {
     "name": "stdout",
     "output_type": "stream",
     "text": [
      "[17:01:38] WARNING: C:/Users/Administrator/workspace/xgboost-win64_release_1.4.0/src/learner.cc:1095: Starting in XGBoost 1.3.0, the default evaluation metric used with the objective 'binary:logistic' was changed from 'error' to 'logloss'. Explicitly set eval_metric if you'd like to restore the old behavior.\n"
     ]
    },
    {
     "data": {
      "text/plain": [
       "XGBClassifier(base_score=0.5, booster='gbtree', colsample_bylevel=1,\n",
       "              colsample_bynode=1, colsample_bytree=0.5456494837348737,\n",
       "              gamma=1.2170245512153282, gpu_id=-1, importance_type='gain',\n",
       "              interaction_constraints='', learning_rate=0.300000012,\n",
       "              max_delta_step=0, max_depth=12, min_child_weight=10.0,\n",
       "              missing=nan, monotone_constraints='()', n_estimators=100,\n",
       "              n_jobs=4, num_parallel_tree=1, random_state=0, reg_alpha=40.0,\n",
       "              reg_lambda=0.9084191898623541, scale_pos_weight=1, subsample=1,\n",
       "              tree_method='exact', validate_parameters=1, verbosity=None)"
      ]
     },
     "execution_count": 329,
     "metadata": {},
     "output_type": "execute_result"
    }
   ],
   "source": [
    "clf.fit(X_under,y_under)"
   ]
  },
  {
   "cell_type": "code",
   "execution_count": 330,
   "id": "alleged-guess",
   "metadata": {},
   "outputs": [],
   "source": [
    "y_pred = clf.predict(df_test_proc)"
   ]
  },
  {
   "cell_type": "markdown",
   "id": "efficient-slovak",
   "metadata": {},
   "source": [
    "## SUBMISSION"
   ]
  },
  {
   "cell_type": "code",
   "execution_count": 331,
   "id": "remarkable-overview",
   "metadata": {},
   "outputs": [],
   "source": [
    "def save_submission(pred):\n",
    "    pd.Series(\n",
    "        pred, name='target', index=pd.Index(range(len(pred)), name='session_id')\n",
    "    ).to_csv('submission_Ilia_Dotsenko.csv')"
   ]
  },
  {
   "cell_type": "code",
   "execution_count": 332,
   "id": "opposed-hello",
   "metadata": {},
   "outputs": [],
   "source": [
    "save_submission(y_pred)"
   ]
  }
 ],
 "metadata": {
  "kernelspec": {
   "display_name": "Python 3",
   "language": "python",
   "name": "python3"
  },
  "language_info": {
   "codemirror_mode": {
    "name": "ipython",
    "version": 3
   },
   "file_extension": ".py",
   "mimetype": "text/x-python",
   "name": "python",
   "nbconvert_exporter": "python",
   "pygments_lexer": "ipython3",
   "version": "3.8.8"
  }
 },
 "nbformat": 4,
 "nbformat_minor": 5
}
