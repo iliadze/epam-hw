{
 "cells": [
  {
   "cell_type": "markdown",
   "id": "institutional-glance",
   "metadata": {},
   "source": [
    "## INTRODUCTION"
   ]
  },
  {
   "cell_type": "markdown",
   "id": "heated-czech",
   "metadata": {},
   "source": [
    "The dataset consists of movie reviews, both positive and negative. The task is to train a model which would identify the sentiment of a review based on the sample reviews. SGD Classifier, SVM and Naive Bayes based models are employed and compared by their classification accuracy.   "
   ]
  },
  {
   "cell_type": "markdown",
   "id": "processed-couple",
   "metadata": {},
   "source": [
    "*Technical note: some of the cells may run for extremely long time. In case you notice that this is due to suboptimal code choice, please let me know in the comments whether any better solution exists in terms of smaller execution time. Thank you!*   "
   ]
  },
  {
   "cell_type": "markdown",
   "id": "swedish-honor",
   "metadata": {},
   "source": [
    "### IMPORTS"
   ]
  },
  {
   "cell_type": "code",
   "execution_count": 3,
   "id": "married-original",
   "metadata": {},
   "outputs": [
    {
     "name": "stdout",
     "output_type": "stream",
     "text": [
      "Requirement already satisfied: word2number in c:\\programdata\\anaconda3\\lib\\site-packages (1.1)\n"
     ]
    }
   ],
   "source": [
    "!pip install word2number"
   ]
  },
  {
   "cell_type": "code",
   "execution_count": 4,
   "id": "stainless-fellowship",
   "metadata": {},
   "outputs": [
    {
     "name": "stdout",
     "output_type": "stream",
     "text": [
      "Collecting en-core-web-sm==3.0.0\n",
      "  Downloading https://github.com/explosion/spacy-models/releases/download/en_core_web_sm-3.0.0/en_core_web_sm-3.0.0-py3-none-any.whl (13.7 MB)\n",
      "Requirement already satisfied: spacy<3.1.0,>=3.0.0 in c:\\programdata\\anaconda3\\lib\\site-packages (from en-core-web-sm==3.0.0) (3.0.5)\n",
      "Requirement already satisfied: pathy>=0.3.5 in c:\\programdata\\anaconda3\\lib\\site-packages (from spacy<3.1.0,>=3.0.0->en-core-web-sm==3.0.0) (0.4.0)\n",
      "Requirement already satisfied: srsly<3.0.0,>=2.4.0 in c:\\programdata\\anaconda3\\lib\\site-packages (from spacy<3.1.0,>=3.0.0->en-core-web-sm==3.0.0) (2.4.0)\n",
      "Requirement already satisfied: setuptools in c:\\programdata\\anaconda3\\lib\\site-packages (from spacy<3.1.0,>=3.0.0->en-core-web-sm==3.0.0) (52.0.0.post20210125)\n",
      "Requirement already satisfied: typer<0.4.0,>=0.3.0 in c:\\programdata\\anaconda3\\lib\\site-packages (from spacy<3.1.0,>=3.0.0->en-core-web-sm==3.0.0) (0.3.2)\n",
      "Requirement already satisfied: jinja2 in c:\\programdata\\anaconda3\\lib\\site-packages (from spacy<3.1.0,>=3.0.0->en-core-web-sm==3.0.0) (2.11.3)\n",
      "Requirement already satisfied: packaging>=20.0 in c:\\programdata\\anaconda3\\lib\\site-packages (from spacy<3.1.0,>=3.0.0->en-core-web-sm==3.0.0) (20.9)\n",
      "Requirement already satisfied: spacy-legacy<3.1.0,>=3.0.0 in c:\\programdata\\anaconda3\\lib\\site-packages (from spacy<3.1.0,>=3.0.0->en-core-web-sm==3.0.0) (3.0.2)\n",
      "Requirement already satisfied: catalogue<2.1.0,>=2.0.1 in c:\\programdata\\anaconda3\\lib\\site-packages (from spacy<3.1.0,>=3.0.0->en-core-web-sm==3.0.0) (2.0.1)\n",
      "Requirement already satisfied: requests<3.0.0,>=2.13.0 in c:\\programdata\\anaconda3\\lib\\site-packages (from spacy<3.1.0,>=3.0.0->en-core-web-sm==3.0.0) (2.25.1)\n",
      "Requirement already satisfied: preshed<3.1.0,>=3.0.2 in c:\\programdata\\anaconda3\\lib\\site-packages (from spacy<3.1.0,>=3.0.0->en-core-web-sm==3.0.0) (3.0.5)\n",
      "Requirement already satisfied: murmurhash<1.1.0,>=0.28.0 in c:\\programdata\\anaconda3\\lib\\site-packages (from spacy<3.1.0,>=3.0.0->en-core-web-sm==3.0.0) (1.0.5)\n",
      "Requirement already satisfied: pydantic<1.8.0,>=1.7.1 in c:\\programdata\\anaconda3\\lib\\site-packages (from spacy<3.1.0,>=3.0.0->en-core-web-sm==3.0.0) (1.7.3)\n",
      "Requirement already satisfied: tqdm<5.0.0,>=4.38.0 in c:\\programdata\\anaconda3\\lib\\site-packages (from spacy<3.1.0,>=3.0.0->en-core-web-sm==3.0.0) (4.59.0)\n",
      "Requirement already satisfied: numpy>=1.15.0 in c:\\programdata\\anaconda3\\lib\\site-packages (from spacy<3.1.0,>=3.0.0->en-core-web-sm==3.0.0) (1.19.2)\n",
      "Requirement already satisfied: wasabi<1.1.0,>=0.8.1 in c:\\programdata\\anaconda3\\lib\\site-packages (from spacy<3.1.0,>=3.0.0->en-core-web-sm==3.0.0) (0.8.2)\n",
      "Requirement already satisfied: thinc<8.1.0,>=8.0.2 in c:\\programdata\\anaconda3\\lib\\site-packages (from spacy<3.1.0,>=3.0.0->en-core-web-sm==3.0.0) (8.0.2)\n",
      "Requirement already satisfied: blis<0.8.0,>=0.4.0 in c:\\programdata\\anaconda3\\lib\\site-packages (from spacy<3.1.0,>=3.0.0->en-core-web-sm==3.0.0) (0.7.4)\n",
      "Requirement already satisfied: cymem<2.1.0,>=2.0.2 in c:\\programdata\\anaconda3\\lib\\site-packages (from spacy<3.1.0,>=3.0.0->en-core-web-sm==3.0.0) (2.0.5)\n",
      "Requirement already satisfied: pyparsing>=2.0.2 in c:\\programdata\\anaconda3\\lib\\site-packages (from packaging>=20.0->spacy<3.1.0,>=3.0.0->en-core-web-sm==3.0.0) (2.4.7)\n",
      "Requirement already satisfied: smart-open<4.0.0,>=2.2.0 in c:\\programdata\\anaconda3\\lib\\site-packages (from pathy>=0.3.5->spacy<3.1.0,>=3.0.0->en-core-web-sm==3.0.0) (3.0.0)\n",
      "Requirement already satisfied: idna<3,>=2.5 in c:\\programdata\\anaconda3\\lib\\site-packages (from requests<3.0.0,>=2.13.0->spacy<3.1.0,>=3.0.0->en-core-web-sm==3.0.0) (2.10)\n",
      "Requirement already satisfied: chardet<5,>=3.0.2 in c:\\programdata\\anaconda3\\lib\\site-packages (from requests<3.0.0,>=2.13.0->spacy<3.1.0,>=3.0.0->en-core-web-sm==3.0.0) (4.0.0)\n",
      "Requirement already satisfied: urllib3<1.27,>=1.21.1 in c:\\programdata\\anaconda3\\lib\\site-packages (from requests<3.0.0,>=2.13.0->spacy<3.1.0,>=3.0.0->en-core-web-sm==3.0.0) (1.26.3)\n",
      "Requirement already satisfied: certifi>=2017.4.17 in c:\\programdata\\anaconda3\\lib\\site-packages (from requests<3.0.0,>=2.13.0->spacy<3.1.0,>=3.0.0->en-core-web-sm==3.0.0) (2020.6.20)\n",
      "Requirement already satisfied: click<7.2.0,>=7.1.1 in c:\\programdata\\anaconda3\\lib\\site-packages (from typer<0.4.0,>=0.3.0->spacy<3.1.0,>=3.0.0->en-core-web-sm==3.0.0) (7.1.2)\n",
      "Requirement already satisfied: MarkupSafe>=0.23 in c:\\programdata\\anaconda3\\lib\\site-packages (from jinja2->spacy<3.1.0,>=3.0.0->en-core-web-sm==3.0.0) (1.1.1)\n",
      "[+] Download and installation successful\n",
      "You can now load the package via spacy.load('en_core_web_sm')\n"
     ]
    }
   ],
   "source": [
    "!python -m spacy download en_core_web_sm"
   ]
  },
  {
   "cell_type": "code",
   "execution_count": 143,
   "id": "amateur-healthcare",
   "metadata": {},
   "outputs": [
    {
     "name": "stderr",
     "output_type": "stream",
     "text": [
      "[nltk_data] Downloading package punkt to\n",
      "[nltk_data]     C:\\Users\\1\\AppData\\Roaming\\nltk_data...\n",
      "[nltk_data]   Package punkt is already up-to-date!\n",
      "[nltk_data] Downloading package stopwords to\n",
      "[nltk_data]     C:\\Users\\1\\AppData\\Roaming\\nltk_data...\n",
      "[nltk_data]   Package stopwords is already up-to-date!\n",
      "[nltk_data] Downloading package wordnet to\n",
      "[nltk_data]     C:\\Users\\1\\AppData\\Roaming\\nltk_data...\n",
      "[nltk_data]   Package wordnet is already up-to-date!\n"
     ]
    }
   ],
   "source": [
    "import pandas as pd\n",
    "import numpy as np\n",
    "\n",
    "import matplotlib.pyplot as plt\n",
    "import seaborn as sns\n",
    "\n",
    "\n",
    "import itertools\n",
    "import more_itertools\n",
    "\n",
    "from bs4 import BeautifulSoup\n",
    "from io import StringIO\n",
    "from html.parser import HTMLParser\n",
    "from collections import Counter\n",
    "import unidecode\n",
    "import contractions\n",
    "import spacy\n",
    "from spacy.lang.en.examples import sentences\n",
    "from word2number import w2n\n",
    "import string\n",
    "\n",
    "import re\n",
    "import os\n",
    "\n",
    "import warnings \n",
    "warnings.filterwarnings('ignore')\n",
    "\n",
    "import nltk\n",
    "from nltk.corpus import stopwords\n",
    "from nltk.tokenize import word_tokenize\n",
    "from nltk.stem import WordNetLemmatizer\n",
    "\n",
    "from sklearn.feature_extraction.text import CountVectorizer, TfidfVectorizer\n",
    "from sklearn.linear_model import SGDClassifier\n",
    "from sklearn.naive_bayes import MultinomialNB\n",
    "from sklearn.metrics import accuracy_score, classification_report\n",
    "from tqdm import tqdm\n",
    "  \n",
    "lemmatizer = WordNetLemmatizer()\n",
    "nltk.download('punkt')\n",
    "nltk.download('stopwords')\n",
    "nltk.download('wordnet')\n",
    "\n",
    "from sklearn.model_selection import train_test_split, StratifiedKFold, GridSearchCV\n",
    "from sklearn.pipeline import Pipeline\n",
    "from sklearn.svm import SVC"
   ]
  },
  {
   "cell_type": "markdown",
   "id": "exclusive-musical",
   "metadata": {},
   "source": [
    "### FUNCTIONS AND CONSTANTS"
   ]
  },
  {
   "cell_type": "code",
   "execution_count": 6,
   "id": "municipal-transfer",
   "metadata": {},
   "outputs": [],
   "source": [
    "nlp = spacy.load('en_core_web_sm')\n",
    "\n",
    "class MLStripper(HTMLParser):\n",
    "    def __init__(self):\n",
    "        super().__init__()\n",
    "        self.reset()\n",
    "        self.strict = False\n",
    "        self.convert_charrefs= True\n",
    "        self.text = StringIO()\n",
    "    def handle_data(self, d):\n",
    "        self.text.write(d)\n",
    "    def get_data(self):\n",
    "        return self.text.getvalue()\n",
    "\n",
    "def strip_tags(html):\n",
    "    s = MLStripper()\n",
    "    s.feed(html)\n",
    "    return s.get_data()\n"
   ]
  },
  {
   "cell_type": "markdown",
   "id": "cleared-personal",
   "metadata": {},
   "source": [
    "## DATASET PREPARATION"
   ]
  },
  {
   "cell_type": "code",
   "execution_count": 7,
   "id": "compatible-framing",
   "metadata": {},
   "outputs": [],
   "source": [
    "df = pd.read_csv(r'C:\\Users\\1\\Downloads\\LargeMovieReviewDataset.csv')"
   ]
  },
  {
   "cell_type": "code",
   "execution_count": 8,
   "id": "recent-therapy",
   "metadata": {},
   "outputs": [
    {
     "data": {
      "text/html": [
       "<div>\n",
       "<style scoped>\n",
       "    .dataframe tbody tr th:only-of-type {\n",
       "        vertical-align: middle;\n",
       "    }\n",
       "\n",
       "    .dataframe tbody tr th {\n",
       "        vertical-align: top;\n",
       "    }\n",
       "\n",
       "    .dataframe thead th {\n",
       "        text-align: right;\n",
       "    }\n",
       "</style>\n",
       "<table border=\"1\" class=\"dataframe\">\n",
       "  <thead>\n",
       "    <tr style=\"text-align: right;\">\n",
       "      <th></th>\n",
       "      <th>review</th>\n",
       "      <th>sentiment</th>\n",
       "    </tr>\n",
       "  </thead>\n",
       "  <tbody>\n",
       "    <tr>\n",
       "      <th>0</th>\n",
       "      <td>One of the other reviewers has mentioned that ...</td>\n",
       "      <td>positive</td>\n",
       "    </tr>\n",
       "    <tr>\n",
       "      <th>1</th>\n",
       "      <td>A wonderful little production. &lt;br /&gt;&lt;br /&gt;The...</td>\n",
       "      <td>positive</td>\n",
       "    </tr>\n",
       "    <tr>\n",
       "      <th>2</th>\n",
       "      <td>I thought this was a wonderful way to spend ti...</td>\n",
       "      <td>positive</td>\n",
       "    </tr>\n",
       "    <tr>\n",
       "      <th>3</th>\n",
       "      <td>Basically there's a family where a little boy ...</td>\n",
       "      <td>negative</td>\n",
       "    </tr>\n",
       "    <tr>\n",
       "      <th>4</th>\n",
       "      <td>Petter Mattei's \"Love in the Time of Money\" is...</td>\n",
       "      <td>positive</td>\n",
       "    </tr>\n",
       "  </tbody>\n",
       "</table>\n",
       "</div>"
      ],
      "text/plain": [
       "                                              review sentiment\n",
       "0  One of the other reviewers has mentioned that ...  positive\n",
       "1  A wonderful little production. <br /><br />The...  positive\n",
       "2  I thought this was a wonderful way to spend ti...  positive\n",
       "3  Basically there's a family where a little boy ...  negative\n",
       "4  Petter Mattei's \"Love in the Time of Money\" is...  positive"
      ]
     },
     "execution_count": 8,
     "metadata": {},
     "output_type": "execute_result"
    }
   ],
   "source": [
    "df.head()"
   ]
  },
  {
   "cell_type": "code",
   "execution_count": 9,
   "id": "outside-anchor",
   "metadata": {},
   "outputs": [
    {
     "data": {
      "text/plain": [
       "\"One of the other reviewers has mentioned that after watching just 1 Oz episode you'll be hooked. They are right, as this is exactly what happened with me.<br /><br />The first thing that struck me about Oz was its brutality and unflinching scenes of violence, which set in right from the word GO. Trust me, this is not a show for the faint hearted or timid. This show pulls no punches with regards to drugs, sex or violence. Its is hardcore, in the classic use of the word.<br /><br />It is called OZ as that is the nickname given to the Oswald Maximum Security State Penitentary. It focuses mainly on Emerald City, an experimental section of the prison where all the cells have glass fronts and face inwards, so privacy is not high on the agenda. Em City is home to many..Aryans, Muslims, gangstas, Latinos, Christians, Italians, Irish and more....so scuffles, death stares, dodgy dealings and shady agreements are never far away.<br /><br />I would say the main appeal of the show is due to the fact that it goes where other shows wouldn't dare. Forget pretty pictures painted for mainstream audiences, forget charm, forget romance...OZ doesn't mess around. The first episode I ever saw struck me as so nasty it was surreal, I couldn't say I was ready for it, but as I watched more, I developed a taste for Oz, and got accustomed to the high levels of graphic violence. Not just violence, but injustice (crooked guards who'll be sold out for a nickel, inmates who'll kill on order and get away with it, well mannered, middle class inmates being turned into prison bitches due to their lack of street skills or prison experience) Watching Oz, you may become comfortable with what is uncomfortable viewing....thats if you can get in touch with your darker side.\""
      ]
     },
     "execution_count": 9,
     "metadata": {},
     "output_type": "execute_result"
    }
   ],
   "source": [
    "df.review[0]"
   ]
  },
  {
   "cell_type": "code",
   "execution_count": 10,
   "id": "linear-theater",
   "metadata": {},
   "outputs": [
    {
     "data": {
      "text/plain": [
       "\"Basically there's a family where a little boy (Jake) thinks there's a zombie in his closet & his parents are fighting all the time.<br /><br />This movie is slower than a soap opera... and suddenly, Jake decides to become Rambo and kill the zombie.<br /><br />OK, first of all when you're going to make a film you must Decide if its a thriller or a drama! As a drama the movie is watchable. Parents are divorcing & arguing like in real life. And then we have Jake with his closet which totally ruins all the film! I expected to see a BOOGEYMAN similar movie, and instead i watched a drama with some meaningless thriller spots.<br /><br />3 out of 10 just for the well playing parents & descent dialogs. As for the shots with Jake: just ignore them.\""
      ]
     },
     "execution_count": 10,
     "metadata": {},
     "output_type": "execute_result"
    }
   ],
   "source": [
    "df.review[3]"
   ]
  },
  {
   "cell_type": "code",
   "execution_count": 11,
   "id": "separated-solid",
   "metadata": {},
   "outputs": [
    {
     "data": {
      "text/plain": [
       "(50000, 2)"
      ]
     },
     "execution_count": 11,
     "metadata": {},
     "output_type": "execute_result"
    }
   ],
   "source": [
    "df.shape"
   ]
  },
  {
   "cell_type": "code",
   "execution_count": 12,
   "id": "opposed-teach",
   "metadata": {},
   "outputs": [
    {
     "data": {
      "text/plain": [
       "Text(0.6, 1.05, 'Distribution of the target')"
      ]
     },
     "execution_count": 12,
     "metadata": {},
     "output_type": "execute_result"
    },
    {
     "data": {
      "image/png": "[encoded data removed]",
      "text/plain": [
       "<Figure size 360x360 with 1 Axes>"
      ]
     },
     "metadata": {
      "needs_background": "light"
     },
     "output_type": "display_data"
    }
   ],
   "source": [
    "ax = sns.displot(df['sentiment'])\n",
    "ax.fig.suptitle(\"Distribution of the target\", fontsize=20, fontdict={\"weight\": \"bold\"}, x=0.6,  y=1.05)"
   ]
  },
  {
   "cell_type": "markdown",
   "id": "thermal-suspension",
   "metadata": {},
   "source": [
    "The dataset consists of 50k observations and only 2 columns: the text of the review in the HTML format and the sentiment. The sentiment distribution is uniform, with equal number of positive and negative cases. This allows to safely perform the train/test split in a random mode being sure that both classes will get into the training set.  "
   ]
  },
  {
   "cell_type": "markdown",
   "id": "hispanic-comment",
   "metadata": {},
   "source": [
    "### BASIC TEXT STATISTICS "
   ]
  },
  {
   "cell_type": "markdown",
   "id": "dressed-armor",
   "metadata": {},
   "source": [
    "**Remove HTML tags.**"
   ]
  },
  {
   "cell_type": "markdown",
   "id": "comfortable-conjunction",
   "metadata": {},
   "source": [
    "Firstly, we will remove all the html tags to only deal with the text from now on."
   ]
  },
  {
   "cell_type": "code",
   "execution_count": 13,
   "id": "mobile-above",
   "metadata": {},
   "outputs": [],
   "source": [
    "df['review'] = [BeautifulSoup(text).get_text() for text in df['review']]"
   ]
  },
  {
   "cell_type": "code",
   "execution_count": 14,
   "id": "heard-aquarium",
   "metadata": {},
   "outputs": [
    {
     "data": {
      "text/plain": [
       "\"Basically there's a family where a little boy (Jake) thinks there's a zombie in his closet & his parents are fighting all the time.This movie is slower than a soap opera... and suddenly, Jake decides to become Rambo and kill the zombie.OK, first of all when you're going to make a film you must Decide if its a thriller or a drama! As a drama the movie is watchable. Parents are divorcing & arguing like in real life. And then we have Jake with his closet which totally ruins all the film! I expected to see a BOOGEYMAN similar movie, and instead i watched a drama with some meaningless thriller spots.3 out of 10 just for the well playing parents & descent dialogs. As for the shots with Jake: just ignore them.\""
      ]
     },
     "execution_count": 14,
     "metadata": {},
     "output_type": "execute_result"
    }
   ],
   "source": [
    "df.review[3]"
   ]
  },
  {
   "cell_type": "markdown",
   "id": "renewable-merit",
   "metadata": {},
   "source": [
    "For simplicity, any ellipses will be regarded as a single fullstop (i.e. \"..\"/\"...\" = \".\"). For a more advanced analysis, the number of ellipses in a text could be collected separately and compared across the target classes. Presumably, there could be a difference in emotional expressions of review authors in the form of a extra dots.\n",
    "This also sets a limitation to the analysis since any case of multiple dots will be regarded as a separate sentence whereas this might not be always the case. However, this is not a central problem for the further sentiment analysis."
   ]
  },
  {
   "cell_type": "markdown",
   "id": "northern-diagram",
   "metadata": {},
   "source": [
    "The same procedure could be performed for the cases of multiple \"??\" or \"!!\" signs. However, this are extremely rare cases and thus will be disregarded. "
   ]
  },
  {
   "cell_type": "code",
   "execution_count": 15,
   "id": "promising-mechanics",
   "metadata": {},
   "outputs": [],
   "source": [
    "for i in df.index:\n",
    "    df['review'][i] = re.sub(r'\\.+', \".\", df['review'][i])"
   ]
  },
  {
   "cell_type": "markdown",
   "id": "crazy-neutral",
   "metadata": {},
   "source": [
    "**Calculate statistical metrics**"
   ]
  },
  {
   "cell_type": "code",
   "execution_count": 16,
   "id": "outstanding-sport",
   "metadata": {},
   "outputs": [],
   "source": [
    "columns_stats = [\"len\", \"n_sentences\", \"avg_sentence_len\", \"n_numbers\", \"numbers_ratio\", \n",
    "                 \"n_words\", \"avg_word_len\",  \"n_letters\", \"n_spaces\", \"n_capitals\", \n",
    "                 \"capitals_ratio\"]\n",
    "\n",
    "stats = pd.DataFrame(index=df.index.copy(), columns = columns_stats)"
   ]
  },
  {
   "cell_type": "code",
   "execution_count": 17,
   "id": "cloudy-praise",
   "metadata": {},
   "outputs": [],
   "source": [
    "punctuation = [\".\", \"?\", \"!\"]"
   ]
  },
  {
   "cell_type": "code",
   "execution_count": 18,
   "id": "bulgarian-reviewer",
   "metadata": {},
   "outputs": [],
   "source": [
    "for i in df.index:\n",
    "    stats['n_sentences'][i] = sum([df.review[i].count(c) for c in punctuation])"
   ]
  },
  {
   "cell_type": "code",
   "execution_count": 19,
   "id": "recreational-intro",
   "metadata": {},
   "outputs": [],
   "source": [
    "for i in df.index:\n",
    "        stats['len'][i] = len(df['review'][i])\n",
    "        stats['n_numbers'][i] = sum(c.isdigit() for c in df['review'][i])\n",
    "        stats['numbers_ratio'][i] = stats['n_numbers'][i]/stats['len'][i]\n",
    "        stats['n_words'][i] = len(df['review'][i].split())\n",
    "        stats['n_letters'][i] = sum(c.isalpha() for c in df['review'][i])\n",
    "        stats['avg_word_len'][i] = stats['n_letters'][i]/stats['n_words'][i]\n",
    "        stats['n_spaces'][i] = sum(c.isspace() for c in df['review'][i])\n",
    "        stats['n_capitals'][i] = sum(c.isupper() for c in df['review'][i])\n",
    "        stats['capitals_ratio'][i] = stats['n_capitals'][i]/stats['n_letters'][i]"
   ]
  },
  {
   "cell_type": "code",
   "execution_count": 20,
   "id": "compact-hardware",
   "metadata": {},
   "outputs": [],
   "source": [
    "for i in df.index:\n",
    "    if stats['n_sentences'][i] == 0:\n",
    "        stats['avg_sentence_len'][i] = stats['len'][i]\n",
    "    else: stats['avg_sentence_len'][i] = stats['len'][i]/stats['n_sentences'][i]"
   ]
  },
  {
   "cell_type": "markdown",
   "id": "surrounded-jerusalem",
   "metadata": {},
   "source": [
    "*Note: the above cells will take some time to run. If there are any hints for optimization, I would kill to know some!*"
   ]
  },
  {
   "cell_type": "code",
   "execution_count": 21,
   "id": "therapeutic-version",
   "metadata": {},
   "outputs": [
    {
     "data": {
      "text/html": [
       "<div>\n",
       "<style scoped>\n",
       "    .dataframe tbody tr th:only-of-type {\n",
       "        vertical-align: middle;\n",
       "    }\n",
       "\n",
       "    .dataframe tbody tr th {\n",
       "        vertical-align: top;\n",
       "    }\n",
       "\n",
       "    .dataframe thead th {\n",
       "        text-align: right;\n",
       "    }\n",
       "</style>\n",
       "<table border=\"1\" class=\"dataframe\">\n",
       "  <thead>\n",
       "    <tr style=\"text-align: right;\">\n",
       "      <th></th>\n",
       "      <th>len</th>\n",
       "      <th>n_sentences</th>\n",
       "      <th>avg_sentence_len</th>\n",
       "      <th>n_numbers</th>\n",
       "      <th>numbers_ratio</th>\n",
       "      <th>n_words</th>\n",
       "      <th>avg_word_len</th>\n",
       "      <th>n_letters</th>\n",
       "      <th>n_spaces</th>\n",
       "      <th>n_capitals</th>\n",
       "      <th>capitals_ratio</th>\n",
       "    </tr>\n",
       "  </thead>\n",
       "  <tbody>\n",
       "    <tr>\n",
       "      <th>0</th>\n",
       "      <td>1716</td>\n",
       "      <td>17</td>\n",
       "      <td>100.941176</td>\n",
       "      <td>1</td>\n",
       "      <td>0.000583</td>\n",
       "      <td>301</td>\n",
       "      <td>4.531561</td>\n",
       "      <td>1364</td>\n",
       "      <td>300</td>\n",
       "      <td>43</td>\n",
       "      <td>0.031525</td>\n",
       "    </tr>\n",
       "    <tr>\n",
       "      <th>1</th>\n",
       "      <td>962</td>\n",
       "      <td>7</td>\n",
       "      <td>137.428571</td>\n",
       "      <td>0</td>\n",
       "      <td>0.0</td>\n",
       "      <td>156</td>\n",
       "      <td>5.00641</td>\n",
       "      <td>781</td>\n",
       "      <td>155</td>\n",
       "      <td>16</td>\n",
       "      <td>0.020487</td>\n",
       "    </tr>\n",
       "    <tr>\n",
       "      <th>2</th>\n",
       "      <td>902</td>\n",
       "      <td>7</td>\n",
       "      <td>128.857143</td>\n",
       "      <td>1</td>\n",
       "      <td>0.001109</td>\n",
       "      <td>162</td>\n",
       "      <td>4.395062</td>\n",
       "      <td>712</td>\n",
       "      <td>161</td>\n",
       "      <td>23</td>\n",
       "      <td>0.032303</td>\n",
       "    </tr>\n",
       "    <tr>\n",
       "      <th>3</th>\n",
       "      <td>710</td>\n",
       "      <td>10</td>\n",
       "      <td>71.0</td>\n",
       "      <td>3</td>\n",
       "      <td>0.004225</td>\n",
       "      <td>132</td>\n",
       "      <td>4.19697</td>\n",
       "      <td>554</td>\n",
       "      <td>131</td>\n",
       "      <td>24</td>\n",
       "      <td>0.043321</td>\n",
       "    </tr>\n",
       "    <tr>\n",
       "      <th>4</th>\n",
       "      <td>1269</td>\n",
       "      <td>15</td>\n",
       "      <td>84.6</td>\n",
       "      <td>0</td>\n",
       "      <td>0.0</td>\n",
       "      <td>222</td>\n",
       "      <td>4.576577</td>\n",
       "      <td>1016</td>\n",
       "      <td>221</td>\n",
       "      <td>34</td>\n",
       "      <td>0.033465</td>\n",
       "    </tr>\n",
       "    <tr>\n",
       "      <th>...</th>\n",
       "      <td>...</td>\n",
       "      <td>...</td>\n",
       "      <td>...</td>\n",
       "      <td>...</td>\n",
       "      <td>...</td>\n",
       "      <td>...</td>\n",
       "      <td>...</td>\n",
       "      <td>...</td>\n",
       "      <td>...</td>\n",
       "      <td>...</td>\n",
       "      <td>...</td>\n",
       "    </tr>\n",
       "    <tr>\n",
       "      <th>49995</th>\n",
       "      <td>984</td>\n",
       "      <td>8</td>\n",
       "      <td>123.0</td>\n",
       "      <td>5</td>\n",
       "      <td>0.005081</td>\n",
       "      <td>190</td>\n",
       "      <td>3.978947</td>\n",
       "      <td>756</td>\n",
       "      <td>189</td>\n",
       "      <td>14</td>\n",
       "      <td>0.018519</td>\n",
       "    </tr>\n",
       "    <tr>\n",
       "      <th>49996</th>\n",
       "      <td>618</td>\n",
       "      <td>5</td>\n",
       "      <td>123.6</td>\n",
       "      <td>0</td>\n",
       "      <td>0.0</td>\n",
       "      <td>108</td>\n",
       "      <td>4.601852</td>\n",
       "      <td>497</td>\n",
       "      <td>107</td>\n",
       "      <td>19</td>\n",
       "      <td>0.038229</td>\n",
       "    </tr>\n",
       "    <tr>\n",
       "      <th>49997</th>\n",
       "      <td>1250</td>\n",
       "      <td>11</td>\n",
       "      <td>113.636364</td>\n",
       "      <td>0</td>\n",
       "      <td>0.0</td>\n",
       "      <td>226</td>\n",
       "      <td>4.415929</td>\n",
       "      <td>998</td>\n",
       "      <td>225</td>\n",
       "      <td>22</td>\n",
       "      <td>0.022044</td>\n",
       "    </tr>\n",
       "    <tr>\n",
       "      <th>49998</th>\n",
       "      <td>1234</td>\n",
       "      <td>8</td>\n",
       "      <td>154.25</td>\n",
       "      <td>2</td>\n",
       "      <td>0.001621</td>\n",
       "      <td>212</td>\n",
       "      <td>4.683962</td>\n",
       "      <td>993</td>\n",
       "      <td>211</td>\n",
       "      <td>23</td>\n",
       "      <td>0.023162</td>\n",
       "    </tr>\n",
       "    <tr>\n",
       "      <th>49999</th>\n",
       "      <td>666</td>\n",
       "      <td>4</td>\n",
       "      <td>166.5</td>\n",
       "      <td>0</td>\n",
       "      <td>0.0</td>\n",
       "      <td>127</td>\n",
       "      <td>4.110236</td>\n",
       "      <td>522</td>\n",
       "      <td>126</td>\n",
       "      <td>13</td>\n",
       "      <td>0.024904</td>\n",
       "    </tr>\n",
       "  </tbody>\n",
       "</table>\n",
       "<p>50000 rows × 11 columns</p>\n",
       "</div>"
      ],
      "text/plain": [
       "        len n_sentences avg_sentence_len n_numbers numbers_ratio n_words  \\\n",
       "0      1716          17       100.941176         1      0.000583     301   \n",
       "1       962           7       137.428571         0           0.0     156   \n",
       "2       902           7       128.857143         1      0.001109     162   \n",
       "3       710          10             71.0         3      0.004225     132   \n",
       "4      1269          15             84.6         0           0.0     222   \n",
       "...     ...         ...              ...       ...           ...     ...   \n",
       "49995   984           8            123.0         5      0.005081     190   \n",
       "49996   618           5            123.6         0           0.0     108   \n",
       "49997  1250          11       113.636364         0           0.0     226   \n",
       "49998  1234           8           154.25         2      0.001621     212   \n",
       "49999   666           4            166.5         0           0.0     127   \n",
       "\n",
       "      avg_word_len n_letters n_spaces n_capitals capitals_ratio  \n",
       "0         4.531561      1364      300         43       0.031525  \n",
       "1          5.00641       781      155         16       0.020487  \n",
       "2         4.395062       712      161         23       0.032303  \n",
       "3          4.19697       554      131         24       0.043321  \n",
       "4         4.576577      1016      221         34       0.033465  \n",
       "...            ...       ...      ...        ...            ...  \n",
       "49995     3.978947       756      189         14       0.018519  \n",
       "49996     4.601852       497      107         19       0.038229  \n",
       "49997     4.415929       998      225         22       0.022044  \n",
       "49998     4.683962       993      211         23       0.023162  \n",
       "49999     4.110236       522      126         13       0.024904  \n",
       "\n",
       "[50000 rows x 11 columns]"
      ]
     },
     "execution_count": 21,
     "metadata": {},
     "output_type": "execute_result"
    }
   ],
   "source": [
    "stats"
   ]
  },
  {
   "cell_type": "code",
   "execution_count": 22,
   "id": "south-scene",
   "metadata": {},
   "outputs": [
    {
     "data": {
      "text/html": [
       "<div>\n",
       "<style scoped>\n",
       "    .dataframe tbody tr th:only-of-type {\n",
       "        vertical-align: middle;\n",
       "    }\n",
       "\n",
       "    .dataframe tbody tr th {\n",
       "        vertical-align: top;\n",
       "    }\n",
       "\n",
       "    .dataframe thead th {\n",
       "        text-align: right;\n",
       "    }\n",
       "</style>\n",
       "<table border=\"1\" class=\"dataframe\">\n",
       "  <thead>\n",
       "    <tr style=\"text-align: right;\">\n",
       "      <th></th>\n",
       "      <th>len</th>\n",
       "      <th>n_sentences</th>\n",
       "      <th>avg_sentence_len</th>\n",
       "      <th>n_numbers</th>\n",
       "      <th>numbers_ratio</th>\n",
       "      <th>n_words</th>\n",
       "      <th>avg_word_len</th>\n",
       "      <th>n_letters</th>\n",
       "      <th>n_spaces</th>\n",
       "      <th>n_capitals</th>\n",
       "      <th>capitals_ratio</th>\n",
       "    </tr>\n",
       "  </thead>\n",
       "  <tbody>\n",
       "    <tr>\n",
       "      <th>count</th>\n",
       "      <td>50000.000000</td>\n",
       "      <td>50000.000000</td>\n",
       "      <td>50000.000000</td>\n",
       "      <td>50000.000000</td>\n",
       "      <td>50000.000000</td>\n",
       "      <td>50000.000000</td>\n",
       "      <td>50000.000000</td>\n",
       "      <td>50000.000000</td>\n",
       "      <td>50000.000000</td>\n",
       "      <td>50000.000000</td>\n",
       "      <td>50000.000000</td>\n",
       "    </tr>\n",
       "    <tr>\n",
       "      <th>mean</th>\n",
       "      <td>1283.999120</td>\n",
       "      <td>13.465280</td>\n",
       "      <td>101.551922</td>\n",
       "      <td>3.232360</td>\n",
       "      <td>0.002625</td>\n",
       "      <td>227.111540</td>\n",
       "      <td>4.439995</td>\n",
       "      <td>1015.251500</td>\n",
       "      <td>226.136280</td>\n",
       "      <td>35.738900</td>\n",
       "      <td>0.035972</td>\n",
       "    </tr>\n",
       "    <tr>\n",
       "      <th>std</th>\n",
       "      <td>970.775488</td>\n",
       "      <td>9.785671</td>\n",
       "      <td>55.107230</td>\n",
       "      <td>5.386155</td>\n",
       "      <td>0.004030</td>\n",
       "      <td>168.277429</td>\n",
       "      <td>0.330254</td>\n",
       "      <td>771.680329</td>\n",
       "      <td>168.310296</td>\n",
       "      <td>33.967088</td>\n",
       "      <td>0.020388</td>\n",
       "    </tr>\n",
       "    <tr>\n",
       "      <th>min</th>\n",
       "      <td>32.000000</td>\n",
       "      <td>0.000000</td>\n",
       "      <td>2.347518</td>\n",
       "      <td>0.000000</td>\n",
       "      <td>0.000000</td>\n",
       "      <td>4.000000</td>\n",
       "      <td>0.283784</td>\n",
       "      <td>25.000000</td>\n",
       "      <td>3.000000</td>\n",
       "      <td>0.000000</td>\n",
       "      <td>0.000000</td>\n",
       "    </tr>\n",
       "    <tr>\n",
       "      <th>25%</th>\n",
       "      <td>688.000000</td>\n",
       "      <td>7.000000</td>\n",
       "      <td>73.400000</td>\n",
       "      <td>0.000000</td>\n",
       "      <td>0.000000</td>\n",
       "      <td>124.000000</td>\n",
       "      <td>4.223301</td>\n",
       "      <td>541.000000</td>\n",
       "      <td>123.000000</td>\n",
       "      <td>16.000000</td>\n",
       "      <td>0.024270</td>\n",
       "    </tr>\n",
       "    <tr>\n",
       "      <th>50%</th>\n",
       "      <td>952.000000</td>\n",
       "      <td>11.000000</td>\n",
       "      <td>93.307692</td>\n",
       "      <td>2.000000</td>\n",
       "      <td>0.001189</td>\n",
       "      <td>170.000000</td>\n",
       "      <td>4.426829</td>\n",
       "      <td>751.000000</td>\n",
       "      <td>169.000000</td>\n",
       "      <td>26.000000</td>\n",
       "      <td>0.032269</td>\n",
       "    </tr>\n",
       "    <tr>\n",
       "      <th>75%</th>\n",
       "      <td>1557.000000</td>\n",
       "      <td>16.000000</td>\n",
       "      <td>118.333333</td>\n",
       "      <td>4.000000</td>\n",
       "      <td>0.003926</td>\n",
       "      <td>275.000000</td>\n",
       "      <td>4.642145</td>\n",
       "      <td>1232.000000</td>\n",
       "      <td>274.000000</td>\n",
       "      <td>44.000000</td>\n",
       "      <td>0.042809</td>\n",
       "    </tr>\n",
       "    <tr>\n",
       "      <th>max</th>\n",
       "      <td>13584.000000</td>\n",
       "      <td>282.000000</td>\n",
       "      <td>1980.000000</td>\n",
       "      <td>185.000000</td>\n",
       "      <td>0.200869</td>\n",
       "      <td>2450.000000</td>\n",
       "      <td>12.765957</td>\n",
       "      <td>10822.000000</td>\n",
       "      <td>2449.000000</td>\n",
       "      <td>749.000000</td>\n",
       "      <td>1.000000</td>\n",
       "    </tr>\n",
       "  </tbody>\n",
       "</table>\n",
       "</div>"
      ],
      "text/plain": [
       "                len   n_sentences  avg_sentence_len     n_numbers  \\\n",
       "count  50000.000000  50000.000000      50000.000000  50000.000000   \n",
       "mean    1283.999120     13.465280        101.551922      3.232360   \n",
       "std      970.775488      9.785671         55.107230      5.386155   \n",
       "min       32.000000      0.000000          2.347518      0.000000   \n",
       "25%      688.000000      7.000000         73.400000      0.000000   \n",
       "50%      952.000000     11.000000         93.307692      2.000000   \n",
       "75%     1557.000000     16.000000        118.333333      4.000000   \n",
       "max    13584.000000    282.000000       1980.000000    185.000000   \n",
       "\n",
       "       numbers_ratio       n_words  avg_word_len     n_letters      n_spaces  \\\n",
       "count   50000.000000  50000.000000  50000.000000  50000.000000  50000.000000   \n",
       "mean        0.002625    227.111540      4.439995   1015.251500    226.136280   \n",
       "std         0.004030    168.277429      0.330254    771.680329    168.310296   \n",
       "min         0.000000      4.000000      0.283784     25.000000      3.000000   \n",
       "25%         0.000000    124.000000      4.223301    541.000000    123.000000   \n",
       "50%         0.001189    170.000000      4.426829    751.000000    169.000000   \n",
       "75%         0.003926    275.000000      4.642145   1232.000000    274.000000   \n",
       "max         0.200869   2450.000000     12.765957  10822.000000   2449.000000   \n",
       "\n",
       "         n_capitals  capitals_ratio  \n",
       "count  50000.000000    50000.000000  \n",
       "mean      35.738900        0.035972  \n",
       "std       33.967088        0.020388  \n",
       "min        0.000000        0.000000  \n",
       "25%       16.000000        0.024270  \n",
       "50%       26.000000        0.032269  \n",
       "75%       44.000000        0.042809  \n",
       "max      749.000000        1.000000  "
      ]
     },
     "execution_count": 22,
     "metadata": {},
     "output_type": "execute_result"
    }
   ],
   "source": [
    "stats = stats.apply(pd.to_numeric)\n",
    "stats.describe()"
   ]
  },
  {
   "cell_type": "markdown",
   "id": "changing-hearing",
   "metadata": {},
   "source": [
    "Perhaps we could explain some part of variation of the target with just basic statistics. Let's check the distributions for both positive and negative reviews. "
   ]
  },
  {
   "cell_type": "code",
   "execution_count": 23,
   "id": "split-details",
   "metadata": {},
   "outputs": [
    {
     "data": {
      "image/png": "[encoded data removed]",
      "text/plain": [
       "<Figure size 720x360 with 2 Axes>"
      ]
     },
     "metadata": {
      "needs_background": "light"
     },
     "output_type": "display_data"
    },
    {
     "data": {
      "image/png": "[encoded data removed]",
      "text/plain": [
       "<Figure size 720x360 with 2 Axes>"
      ]
     },
     "metadata": {
      "needs_background": "light"
     },
     "output_type": "display_data"
    },
    {
     "data": {
      "image/png": "[encoded data removed]",
      "text/plain": [
       "<Figure size 720x360 with 2 Axes>"
      ]
     },
     "metadata": {
      "needs_background": "light"
     },
     "output_type": "display_data"
    },
    {
     "data": {
      "image/png": "[encoded data removed]",
      "text/plain": [
       "<Figure size 720x360 with 2 Axes>"
      ]
     },
     "metadata": {
      "needs_background": "light"
     },
     "output_type": "display_data"
    },
    {
     "data": {
      "image/png": "[encoded data removed]",
      "text/plain": [
       "<Figure size 720x360 with 2 Axes>"
      ]
     },
     "metadata": {
      "needs_background": "light"
     },
     "output_type": "display_data"
    },
    {
     "data": {
      "image/png": "[encoded data removed]",
      "text/plain": [
       "<Figure size 720x360 with 2 Axes>"
      ]
     },
     "metadata": {
      "needs_background": "light"
     },
     "output_type": "display_data"
    },
    {
     "data": {
      "image/png": "[encoded data removed]",
      "text/plain": [
       "<Figure size 720x360 with 2 Axes>"
      ]
     },
     "metadata": {
      "needs_background": "light"
     },
     "output_type": "display_data"
    },
    {
     "data": {
      "image/png": "[encoded data removed]",
      "text/plain": [
       "<Figure size 720x360 with 2 Axes>"
      ]
     },
     "metadata": {
      "needs_background": "light"
     },
     "output_type": "display_data"
    },
    {
     "data": {
      "image/png": "[encoded data removed]",
      "text/plain": [
       "<Figure size 720x360 with 2 Axes>"
      ]
     },
     "metadata": {
      "needs_background": "light"
     },
     "output_type": "display_data"
    },
    {
     "data": {
      "image/png": "[encoded data removed]",
      "text/plain": [
       "<Figure size 720x360 with 2 Axes>"
      ]
     },
     "metadata": {
      "needs_background": "light"
     },
     "output_type": "display_data"
    },
    {
     "data": {
      "image/png": "[encoded data removed]",
      "text/plain": [
       "<Figure size 720x360 with 2 Axes>"
      ]
     },
     "metadata": {
      "needs_background": "light"
     },
     "output_type": "display_data"
    }
   ],
   "source": [
    "for stat in stats.columns:\n",
    "    fig,(ax1,ax2) = plt.subplots(1, 2, figsize=(10,5))\n",
    "    sns.distplot(stats[df.sentiment == \"positive\"][stat], ax=ax1, color='red')\n",
    "    ax1.set_title('POSITIVE')\n",
    "    sns.distplot(stats[df.sentiment == \"negative\"][stat], ax=ax2, color='green')\n",
    "    ax2.set_title('NEGATIVE')\n",
    "    fig.suptitle(stat)"
   ]
  },
  {
   "cell_type": "markdown",
   "id": "checked-field",
   "metadata": {},
   "source": [
    "INTERPRETATION:\n",
    "- As it can be seen from the plots, there is no significant variation observed in the distributions of the basic statistics. Most likely, adding these variables to the classification models would not result in any improvement of the accuracy metrics."
   ]
  },
  {
   "cell_type": "markdown",
   "id": "impaired-wellington",
   "metadata": {},
   "source": [
    "### TEXT PREPROCESSING"
   ]
  },
  {
   "cell_type": "markdown",
   "id": "controlled-hands",
   "metadata": {},
   "source": [
    "As just basic frequency stats for the reviews most likely cannot be used for classification, more profound analysis of the text is required. "
   ]
  },
  {
   "cell_type": "markdown",
   "id": "viral-cuisine",
   "metadata": {},
   "source": [
    "Firstly, the text needs to be normalized for further analysis. This includes several procedures that bring words into uniform format."
   ]
  },
  {
   "cell_type": "markdown",
   "id": "previous-march",
   "metadata": {},
   "source": [
    "**Part 1.** Basic cleaning before tokenization"
   ]
  },
  {
   "cell_type": "markdown",
   "id": "spread-gasoline",
   "metadata": {},
   "source": [
    "- **STEP 1.** ALL WORDS TO LOWERCASE"
   ]
  },
  {
   "cell_type": "code",
   "execution_count": 24,
   "id": "raising-floor",
   "metadata": {},
   "outputs": [],
   "source": [
    "df['review'] = df.review.str.lower()"
   ]
  },
  {
   "cell_type": "markdown",
   "id": "equal-technology",
   "metadata": {},
   "source": [
    "- **STEP 2.** EXPAND CONTRACTIONS"
   ]
  },
  {
   "cell_type": "code",
   "execution_count": 25,
   "id": "renewable-princess",
   "metadata": {},
   "outputs": [],
   "source": [
    "df['review'] =  [contractions.fix(text) for text in df['review']]"
   ]
  },
  {
   "cell_type": "markdown",
   "id": "satisfied-emperor",
   "metadata": {},
   "source": [
    "- **STEP 3.** CONVERT ACCENDED CHARACTERS"
   ]
  },
  {
   "cell_type": "code",
   "execution_count": 26,
   "id": "knowing-bronze",
   "metadata": {},
   "outputs": [],
   "source": [
    "df['review'] = [unidecode.unidecode(text) for text in df['review']]"
   ]
  },
  {
   "cell_type": "markdown",
   "id": "unable-ethiopia",
   "metadata": {},
   "source": [
    "- **STEP 4.** REMOVE NUMBERS"
   ]
  },
  {
   "cell_type": "code",
   "execution_count": 27,
   "id": "basic-floating",
   "metadata": {},
   "outputs": [],
   "source": [
    "df['review'] = [re.sub(\"[0-9]\", \"\", text) for text in df['review']]"
   ]
  },
  {
   "cell_type": "markdown",
   "id": "organizational-pathology",
   "metadata": {},
   "source": [
    "- **STEP 5.** REMOVE PUNCTUATION"
   ]
  },
  {
   "cell_type": "code",
   "execution_count": 28,
   "id": "functioning-athens",
   "metadata": {},
   "outputs": [],
   "source": [
    "df['review'] = [text.translate(str.maketrans('','',string.punctuation)) for text in df['review']]"
   ]
  },
  {
   "cell_type": "markdown",
   "id": "mature-arbor",
   "metadata": {},
   "source": [
    "- **STEP 6.** REMOVE EXTRA WHITESPACES "
   ]
  },
  {
   "cell_type": "code",
   "execution_count": 29,
   "id": "grand-cement",
   "metadata": {},
   "outputs": [],
   "source": [
    "df['review'] = [text.strip() for text in df['review']]"
   ]
  },
  {
   "cell_type": "markdown",
   "id": "material-independence",
   "metadata": {},
   "source": [
    "**Part 2.** Tokenization"
   ]
  },
  {
   "cell_type": "markdown",
   "id": "cleared-first",
   "metadata": {},
   "source": [
    "In this section, all the words in the reviews are separated into tokens — the elements for further sentiment analysis. "
   ]
  },
  {
   "cell_type": "code",
   "execution_count": 30,
   "id": "second-percentage",
   "metadata": {},
   "outputs": [],
   "source": [
    "df['tokens'] = np.nan"
   ]
  },
  {
   "cell_type": "code",
   "execution_count": 31,
   "id": "reported-persian",
   "metadata": {},
   "outputs": [],
   "source": [
    "for i in df.index:\n",
    "    df['tokens'][i] = word_tokenize(df['review'][i])"
   ]
  },
  {
   "cell_type": "markdown",
   "id": "animal-decrease",
   "metadata": {},
   "source": [
    "**Part 3.** After tokenization"
   ]
  },
  {
   "cell_type": "markdown",
   "id": "extreme-german",
   "metadata": {},
   "source": [
    "- **STEP 1.** REMOVE STOPWORDS"
   ]
  },
  {
   "cell_type": "markdown",
   "id": "respective-iraqi",
   "metadata": {},
   "source": [
    "Since \"no\" and \"not\" are important words for sentiment analysis, we want to keep them. "
   ]
  },
  {
   "cell_type": "code",
   "execution_count": 32,
   "id": "fuzzy-proposition",
   "metadata": {},
   "outputs": [],
   "source": [
    "to_remove = ['no', 'not']\n",
    "cashedStopWords = set(stopwords.words('english')).difference(to_remove)"
   ]
  },
  {
   "cell_type": "code",
   "execution_count": 33,
   "id": "residential-internship",
   "metadata": {},
   "outputs": [],
   "source": [
    "for i in df.index:\n",
    "    df['tokens'][i] = [word for word in df['tokens'][i] if not word in cashedStopWords]"
   ]
  },
  {
   "cell_type": "markdown",
   "id": "ethical-count",
   "metadata": {},
   "source": [
    "- **STEP 2.** LEMMATIZATION"
   ]
  },
  {
   "cell_type": "code",
   "execution_count": 34,
   "id": "criminal-interview",
   "metadata": {},
   "outputs": [],
   "source": [
    "for i in df.index:\n",
    "    df['tokens'][i] = [lemmatizer.lemmatize(word) for word in df['tokens'][i]]"
   ]
  },
  {
   "cell_type": "markdown",
   "id": "animal-transcription",
   "metadata": {},
   "source": [
    "### WORDS STATISTICS"
   ]
  },
  {
   "cell_type": "markdown",
   "id": "broken-copper",
   "metadata": {},
   "source": [
    "**POSITIVE REVIEWS**"
   ]
  },
  {
   "cell_type": "code",
   "execution_count": 50,
   "id": "ranging-contribution",
   "metadata": {},
   "outputs": [],
   "source": [
    "positive_tokens = list(itertools.chain(df['tokens'][df['sentiment']=='positive'])) "
   ]
  },
  {
   "cell_type": "code",
   "execution_count": 57,
   "id": "greenhouse-today",
   "metadata": {},
   "outputs": [],
   "source": [
    "positive_tokens_flat = [item for sublist in positive_tokens for item in sublist]"
   ]
  },
  {
   "cell_type": "code",
   "execution_count": 71,
   "id": "unlimited-liabilities",
   "metadata": {},
   "outputs": [
    {
     "data": {
      "text/plain": [
       "[('not', 55770),\n",
       " ('film', 47893),\n",
       " ('movie', 43133),\n",
       " ('one', 26959),\n",
       " ('like', 17540),\n",
       " ('time', 15196),\n",
       " ('good', 14419),\n",
       " ('story', 13647),\n",
       " ('character', 13633),\n",
       " ('would', 13152),\n",
       " ('great', 12694),\n",
       " ('see', 12531),\n",
       " ('get', 11097),\n",
       " ('make', 10988),\n",
       " ('well', 10979),\n",
       " ('really', 10676),\n",
       " ('also', 10553),\n",
       " ('scene', 9693),\n",
       " ('show', 9410),\n",
       " ('even', 9365)]"
      ]
     },
     "execution_count": 71,
     "metadata": {},
     "output_type": "execute_result"
    }
   ],
   "source": [
    "positive_tokens_count = Counter(positive_tokens_flat)\n",
    "positive_tokens_count.most_common(20)"
   ]
  },
  {
   "cell_type": "code",
   "execution_count": 66,
   "id": "continuous-segment",
   "metadata": {},
   "outputs": [
    {
     "name": "stdout",
     "output_type": "stream",
     "text": [
      "128255\n"
     ]
    }
   ],
   "source": [
    "positive_tokens_dict = len(set(positive_tokens_flat))\n",
    "print(positive_tokens_dict)"
   ]
  },
  {
   "cell_type": "markdown",
   "id": "nearby-married",
   "metadata": {},
   "source": [
    "There are 128,255 unique words in positive reviews."
   ]
  },
  {
   "cell_type": "markdown",
   "id": "cooperative-wells",
   "metadata": {},
   "source": [
    "**NEGATIVE REVIEWS**"
   ]
  },
  {
   "cell_type": "code",
   "execution_count": 67,
   "id": "trained-adolescent",
   "metadata": {},
   "outputs": [],
   "source": [
    "negative_tokens = list(itertools.chain(df['tokens'][df['sentiment']=='negative'])) "
   ]
  },
  {
   "cell_type": "code",
   "execution_count": 68,
   "id": "legislative-fossil",
   "metadata": {},
   "outputs": [],
   "source": [
    "negative_tokens_flat = [item for sublist in negative_tokens for item in sublist]"
   ]
  },
  {
   "cell_type": "code",
   "execution_count": 72,
   "id": "informative-tuning",
   "metadata": {},
   "outputs": [
    {
     "data": {
      "text/plain": [
       "[('not', 73021),\n",
       " ('movie', 55879),\n",
       " ('film', 41914),\n",
       " ('one', 25717),\n",
       " ('like', 22243),\n",
       " ('would', 17874),\n",
       " ('no', 15366),\n",
       " ('even', 14918),\n",
       " ('time', 14198),\n",
       " ('good', 14195),\n",
       " ('bad', 14092),\n",
       " ('character', 13942),\n",
       " ('get', 13337),\n",
       " ('make', 12577),\n",
       " ('really', 12223),\n",
       " ('could', 11339),\n",
       " ('I', 11255),\n",
       " ('scene', 11011),\n",
       " ('see', 10961),\n",
       " ('story', 10580)]"
      ]
     },
     "execution_count": 72,
     "metadata": {},
     "output_type": "execute_result"
    }
   ],
   "source": [
    "negative_tokens_count = Counter(negative_tokens_flat)\n",
    "negative_tokens_count.most_common(20)"
   ]
  },
  {
   "cell_type": "code",
   "execution_count": 70,
   "id": "coated-stress",
   "metadata": {},
   "outputs": [
    {
     "name": "stdout",
     "output_type": "stream",
     "text": [
      "124984\n"
     ]
    }
   ],
   "source": [
    "negative_tokens_dict = len(set(negative_tokens_flat))\n",
    "print(negative_tokens_dict)"
   ]
  },
  {
   "cell_type": "markdown",
   "id": "outside-flesh",
   "metadata": {},
   "source": [
    "There are 124,984 unique words in negative reviews."
   ]
  },
  {
   "cell_type": "markdown",
   "id": "auburn-numbers",
   "metadata": {},
   "source": [
    "Overall, we can see that there are no obvious significant differences in most freqient words across the target classes."
   ]
  },
  {
   "cell_type": "markdown",
   "id": "strange-copying",
   "metadata": {},
   "source": [
    "### TRAIN / TEST SPLIT"
   ]
  },
  {
   "cell_type": "markdown",
   "id": "circular-crawford",
   "metadata": {},
   "source": [
    "Before any analysis of the data, we split the dataset into train and test sets to simulate a real-life case and perform exploratory analysis and model training only with the train set. The test set is only used in the final stage for the evaluation of the models."
   ]
  },
  {
   "cell_type": "code",
   "execution_count": 116,
   "id": "powerful-amplifier",
   "metadata": {},
   "outputs": [],
   "source": [
    "X_train, X_test, y_train, y_test = train_test_split(df.drop(['sentiment', 'tokens'], axis=1), df['sentiment'], \n",
    "                                                    test_size=0.2, shuffle=True, stratify=df['sentiment'])"
   ]
  },
  {
   "cell_type": "markdown",
   "id": "given-montgomery",
   "metadata": {},
   "source": [
    "**MODEL PREPARATION**"
   ]
  },
  {
   "cell_type": "markdown",
   "id": "micro-butter",
   "metadata": {},
   "source": [
    "1. Target preprocessing"
   ]
  },
  {
   "cell_type": "code",
   "execution_count": 117,
   "id": "rubber-animal",
   "metadata": {},
   "outputs": [],
   "source": [
    "y_map = {'negative': 0,\n",
    "        'positive': 1}\n",
    "y_train = y_train.map(y_map)\n",
    "y_test = y_test.map(y_map)"
   ]
  },
  {
   "cell_type": "markdown",
   "id": "married-steam",
   "metadata": {},
   "source": [
    "2. Features preprocessing"
   ]
  },
  {
   "cell_type": "markdown",
   "id": "heated-joining",
   "metadata": {},
   "source": [
    "- Count Vectorizer"
   ]
  },
  {
   "cell_type": "code",
   "execution_count": 95,
   "id": "urban-sculpture",
   "metadata": {},
   "outputs": [],
   "source": [
    "ngram_range = (1,1)"
   ]
  },
  {
   "cell_type": "code",
   "execution_count": 134,
   "id": "adolescent-courtesy",
   "metadata": {},
   "outputs": [],
   "source": [
    "cvec = CountVectorizer(stop_words = cashedStopWords,\n",
    "                               analyzer = 'word',\n",
    "                               ngram_range = ngram_range)\n",
    "    \n",
    "X_train_cvec = cvec.fit_transform(X_train.review)\n",
    "X_test_cvec = cvec.transform(X_test.review)"
   ]
  },
  {
   "cell_type": "markdown",
   "id": "organized-screw",
   "metadata": {},
   "source": [
    "- TF-idf"
   ]
  },
  {
   "cell_type": "code",
   "execution_count": 139,
   "id": "international-notification",
   "metadata": {},
   "outputs": [],
   "source": [
    "tfidfvec = TfidfVectorizer(stop_words = cashedStopWords,\n",
    "                                  analyzer = 'word',\n",
    "                                  lowercase = True,\n",
    "                                  use_idf = True,\n",
    "                                  ngram_range = ngram_range)\n",
    "        \n",
    "X_train_tfidf = tfidfvec.fit_transform(X_train.review)\n",
    "X_test_tfidf = tfidfvec.transform(X_test.review)"
   ]
  },
  {
   "cell_type": "markdown",
   "id": "exciting-convertible",
   "metadata": {},
   "source": [
    "### SGD CLASSIFIER"
   ]
  },
  {
   "cell_type": "code",
   "execution_count": null,
   "id": "written-angola",
   "metadata": {},
   "outputs": [],
   "source": [
    "clf_sgd = SGDClassifier(loss = \"hinge\", penalty = \"l1\")"
   ]
  },
  {
   "cell_type": "markdown",
   "id": "neural-procedure",
   "metadata": {},
   "source": [
    "- With Count Vectorizer"
   ]
  },
  {
   "cell_type": "code",
   "execution_count": 137,
   "id": "brief-language",
   "metadata": {},
   "outputs": [],
   "source": [
    "clf_sgd.fit(X_train_cvec, y_train)\n",
    "\n",
    "prediction_sgd = clf_sgd.predict(X_test_cvec)\n",
    "c_rep_sgd_cvec = classification_report(y_true = y_test, y_pred = prediction_sgd)"
   ]
  },
  {
   "cell_type": "code",
   "execution_count": 138,
   "id": "metropolitan-temple",
   "metadata": {},
   "outputs": [
    {
     "name": "stdout",
     "output_type": "stream",
     "text": [
      "              precision    recall  f1-score   support\n",
      "\n",
      "           0       0.86      0.87      0.86      5000\n",
      "           1       0.87      0.86      0.86      5000\n",
      "\n",
      "    accuracy                           0.86     10000\n",
      "   macro avg       0.86      0.86      0.86     10000\n",
      "weighted avg       0.86      0.86      0.86     10000\n",
      "\n"
     ]
    }
   ],
   "source": [
    "print(c_rep_sgd_cvec)"
   ]
  },
  {
   "cell_type": "markdown",
   "id": "touched-pocket",
   "metadata": {},
   "source": [
    "- With TF-idf"
   ]
  },
  {
   "cell_type": "code",
   "execution_count": 140,
   "id": "abstract-equation",
   "metadata": {},
   "outputs": [],
   "source": [
    "clf_sgd.fit(X_train_tfidf, y_train)\n",
    "\n",
    "prediction_tfidf = clf_sgd.predict(X_test_tfidf)\n",
    "c_rep_sgd_tfidf = classification_report(y_true = y_test, y_pred = prediction_tfidf)"
   ]
  },
  {
   "cell_type": "code",
   "execution_count": 141,
   "id": "cellular-international",
   "metadata": {},
   "outputs": [
    {
     "name": "stdout",
     "output_type": "stream",
     "text": [
      "              precision    recall  f1-score   support\n",
      "\n",
      "           0       0.89      0.85      0.87      5000\n",
      "           1       0.86      0.89      0.87      5000\n",
      "\n",
      "    accuracy                           0.87     10000\n",
      "   macro avg       0.87      0.87      0.87     10000\n",
      "weighted avg       0.87      0.87      0.87     10000\n",
      "\n"
     ]
    }
   ],
   "source": [
    "print(c_rep_sgd_tfidf)"
   ]
  },
  {
   "cell_type": "markdown",
   "id": "latest-mailman",
   "metadata": {},
   "source": [
    "### NAIVE BAYES CLASSIFIER"
   ]
  },
  {
   "cell_type": "code",
   "execution_count": null,
   "id": "french-typing",
   "metadata": {},
   "outputs": [],
   "source": [
    "clf_nb = MultinomialNB()"
   ]
  },
  {
   "cell_type": "markdown",
   "id": "composite-colonial",
   "metadata": {},
   "source": [
    "- With Count Vectorizer"
   ]
  },
  {
   "cell_type": "code",
   "execution_count": 149,
   "id": "cross-blowing",
   "metadata": {},
   "outputs": [],
   "source": [
    "clf_nb.fit(X_train_cvec, y_train)\n",
    "\n",
    "prediction_nb_cvec = clf_nb.predict(X_test_cvec)\n",
    "c_rep_nb_cvec = classification_report(y_true = y_test, y_pred = prediction_nb_cvec)"
   ]
  },
  {
   "cell_type": "code",
   "execution_count": 150,
   "id": "adequate-brick",
   "metadata": {},
   "outputs": [
    {
     "name": "stdout",
     "output_type": "stream",
     "text": [
      "              precision    recall  f1-score   support\n",
      "\n",
      "           0       0.84      0.88      0.86      5000\n",
      "           1       0.88      0.84      0.86      5000\n",
      "\n",
      "    accuracy                           0.86     10000\n",
      "   macro avg       0.86      0.86      0.86     10000\n",
      "weighted avg       0.86      0.86      0.86     10000\n",
      "\n"
     ]
    }
   ],
   "source": [
    "print(c_rep_nb_cvec)"
   ]
  },
  {
   "cell_type": "markdown",
   "id": "environmental-baker",
   "metadata": {},
   "source": [
    "- With TF-idf"
   ]
  },
  {
   "cell_type": "code",
   "execution_count": 147,
   "id": "disturbed-container",
   "metadata": {},
   "outputs": [],
   "source": [
    "clf_nb.fit(X_train_tfidf, y_train)\n",
    "\n",
    "prediction_nb_tfidf = clf_nb.predict(X_test_tfidf)\n",
    "c_rep_nb_tfidf = classification_report(y_true = y_test, y_pred = prediction_nb_tfidf)"
   ]
  },
  {
   "cell_type": "code",
   "execution_count": 148,
   "id": "verified-invalid",
   "metadata": {},
   "outputs": [
    {
     "name": "stdout",
     "output_type": "stream",
     "text": [
      "              precision    recall  f1-score   support\n",
      "\n",
      "           0       0.86      0.88      0.87      5000\n",
      "           1       0.88      0.85      0.86      5000\n",
      "\n",
      "    accuracy                           0.87     10000\n",
      "   macro avg       0.87      0.87      0.87     10000\n",
      "weighted avg       0.87      0.87      0.87     10000\n",
      "\n"
     ]
    }
   ],
   "source": [
    "print(c_rep_nb_tfidf)"
   ]
  },
  {
   "cell_type": "markdown",
   "id": "occupational-loading",
   "metadata": {},
   "source": [
    "## CONCLUSIONS"
   ]
  },
  {
   "cell_type": "markdown",
   "id": "driving-fault",
   "metadata": {},
   "source": [
    "From the preliminary text analysis, it couldn't be said that the reviews significantly differ by basic statistical measures and/or by the composition of the most frequent words in the text. Just looking at the calculated statistics, we most likely wouldn't be able to distinguish between a negative and a positive sample review neither by the size of the dictionary, nor length of the words, sentences or most frequent words.   "
   ]
  },
  {
   "cell_type": "markdown",
   "id": "exciting-carol",
   "metadata": {},
   "source": [
    "It could be the way that the counted most frequent words include some common words that don't carry much sentiment value. Perhaps, the reviews statistics would exhibit a stronger difference if analyzed by a harsher filtering of stopwords leaving only those that carry at least some extent of sentiment."
   ]
  },
  {
   "cell_type": "markdown",
   "id": "statutory-multimedia",
   "metadata": {},
   "source": [
    "As to the models, the employed SGD and Naive Bayes ranked almost equally in terms of accuracy metrics. TF-idf vectorization leads better results, as expected, for all the models since it produced normalized word frequency inputs. "
   ]
  },
  {
   "cell_type": "markdown",
   "id": "steady-exception",
   "metadata": {},
   "source": [
    "It should be noticed that no hyperparameters tuning has been performed which could potentially result in a much better accuracy metrics for both models and would make it possible to compare them more rigorously."
   ]
  },
  {
   "cell_type": "markdown",
   "id": "neutral-medicaid",
   "metadata": {},
   "source": [
    "**POTENTIAL IMPROVEMENTS**\n",
    "- Execute SVM model. The problem was in the large time of execution. I believe there should be a way to optimize the dataset or somehow tune the model parameters to make the execution faster. \n",
    "- For all the models, compare stemming vs lemmization in terms of accuracy metrics. It could be the case that normalizing text by stemming would create more solid dependences since some of the words expressing subjective opition/emotion/attitude might have the same root and therefore mean similar things in terms of sentiment.   \n",
    "- Compare various n-values for n-grams for vectorizers, check words/phrases importance."
   ]
  }
 ],
 "metadata": {
  "kernelspec": {
   "display_name": "Python 3",
   "language": "python",
   "name": "python3"
  },
  "language_info": {
   "codemirror_mode": {
    "name": "ipython",
    "version": 3
   },
   "file_extension": ".py",
   "mimetype": "text/x-python",
   "name": "python",
   "nbconvert_exporter": "python",
   "pygments_lexer": "ipython3",
   "version": "3.8.8"
  }
 },
 "nbformat": 4,
 "nbformat_minor": 5
}
